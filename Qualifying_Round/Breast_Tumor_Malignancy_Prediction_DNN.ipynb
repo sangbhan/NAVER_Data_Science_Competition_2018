{
 "cells": [
  {
   "cell_type": "markdown",
   "metadata": {},
   "source": [
    "## Prediction of Breast Tumor Malignancy with Deep Neural Network\n",
    "\n",
    "I will make a computational model for breast tumor malignancy prediction with a deep neural network.\n",
    "\n",
    "* Input dimensions are 569 (# of breast tumor tissues) x 30 (# of features),\n",
    "* Output dimensions are 569 (# of breast tumor tissues) x 2 (malignant tumor score and benign tumor score).\n",
    "\n",
    "My network architecture is **input -> [FC-softplus]xN -> FC -> cross entropy loss**.\n",
    "\n",
    "I will use **Adam optimizer**."
   ]
  },
  {
   "cell_type": "markdown",
   "metadata": {},
   "source": [
    "## Load Data"
   ]
  },
  {
   "cell_type": "code",
   "execution_count": 5,
   "metadata": {},
   "outputs": [],
   "source": [
    "import tensorflow as tf\n",
    "import numpy as np\n",
    "import math\n",
    "import matplotlib.pyplot as plt\n",
    "\n",
    "# load training and validation datasets\n",
    "Train = np.load('./Training.npy')\n",
    "Valid = np.load('./Validation.npy')\n",
    "\n",
    "nNumTrainData = Train.shape[0] # it should be 341 "
   ]
  },
  {
   "cell_type": "markdown",
   "metadata": {},
   "source": [
    "## Set Hyperparameters"
   ]
  },
  {
   "cell_type": "code",
   "execution_count": 6,
   "metadata": {},
   "outputs": [],
   "source": [
    "nNumEpochs = 30000 # number of epochs\n",
    "\n",
    "# Hyperparameters (need to optimize)\n",
    "nNumLayerList = [1, 2, 3, 4, 5] # number of hidden layers\n",
    "nBatchSizeList = [16, 32, 64, 128] # batch size\n",
    "fLearnRateList = [1e-2, 1e-3, 1e-4, 1e-5] # learning rate"
   ]
  },
  {
   "cell_type": "markdown",
   "metadata": {},
   "source": [
    "## Model Architecture"
   ]
  },
  {
   "cell_type": "code",
   "execution_count": 7,
   "metadata": {},
   "outputs": [],
   "source": [
    "# this model inputs 30 features and outputs 2 score nodes (malignant score and benign score)\n",
    "# nNumLayer: the number of hidden layers\n",
    "def model(X, nNumLayer):\n",
    "    \n",
    "    nNumHiddenNodesList = [] # contains the number of hidden nodes in each hidden layer\n",
    "    nNumNodes = 30 # number of input nodes\n",
    " \n",
    "    # define the number of hidden nodes in each hidden layer\n",
    "    for nLayerNum in range(nNumLayer):\n",
    "    \n",
    "        nNumNodes *= np.power(2/30, 1/(nNumLayer + 1))\n",
    "        nNumHiddenNodesList += [np.int32(nNumNodes)]\n",
    "    \n",
    "    \n",
    "    # construct my model\n",
    "    for nLayerNum in range(nNumLayer):\n",
    "        \n",
    "        X = tf.layers.dense(X, nNumHiddenNodesList[nLayerNum])\n",
    "        X = tf.nn.softplus(X)\n",
    "    \n",
    "    X = tf.layers.dense(X, 2) # 2 output nodes\n",
    "    \n",
    "    return X"
   ]
  },
  {
   "cell_type": "markdown",
   "metadata": {},
   "source": [
    "## Model Training\n",
    "\n",
    "Let's first optimize the number of hidden layers. Fix learn_rate = 1e-4, batch_size = 32."
   ]
  },
  {
   "cell_type": "code",
   "execution_count": 8,
   "metadata": {},
   "outputs": [
    {
     "name": "stdout",
     "output_type": "stream",
     "text": [
      "Epoch: 21318, train accuracy: 0.974, valid accuracy: 0.956\n"
     ]
    },
    {
     "data": {
      "text/plain": [
       "[<matplotlib.lines.Line2D at 0x7f27ea2880b8>]"
      ]
     },
     "execution_count": 8,
     "metadata": {},
     "output_type": "execute_result"
    }
   ],
   "source": [
    "nBatchSize = 32\n",
    "nNumTrainBatches = math.ceil(nNumTrainData / nBatchSize)\n",
    "\n",
    "tf.reset_default_graph()\n",
    "tf.set_random_seed(777)\n",
    "np.random.seed(777)\n",
    "\n",
    "x = tf.placeholder(tf.float32, [None, 30]) # input: 30 features of breast cancer tissues\n",
    "label = tf.placeholder(tf.float32, [None, 2]) # true labels\n",
    "\n",
    "# 1 hidden layer\n",
    "y = model(x, 1)\n",
    "\n",
    "loss = tf.reduce_mean(tf.nn.softmax_cross_entropy_with_logits_v2(labels = label, logits = y)) # cross entropy loss\n",
    "accuracy = tf.reduce_mean(tf.cast(tf.equal(tf.argmax(label, 1), tf.argmax(y, 1)), \"float\"))\n",
    "train_step = tf.train.AdamOptimizer(1e-4).minimize(loss) # learn_rate = 1e-4\n",
    "\n",
    "with tf.Session() as sess:    \n",
    "\n",
    "    with tf.device(\"/gpu:0\") as dev:\n",
    "\n",
    "        train_accuracy_list = []\n",
    "        valid_accuracy_list = []\n",
    "        \n",
    "        max_valid_acc = 0.0\n",
    "        max_train_acc_list = []\n",
    "        max_epoch_list = []\n",
    "        \n",
    "        tf.global_variables_initializer().run()\n",
    "\n",
    "        for epoch in range(nNumEpochs):\n",
    "\n",
    "            for it in range(nNumTrainBatches - 1):\n",
    "\n",
    "                sess.run(train_step, feed_dict = {x: Train[nBatchSize * it: nBatchSize * (it + 1), 2:], \\\n",
    "                                                  label: Train[nBatchSize * it: nBatchSize * (it + 1), 0:2]})\n",
    "\n",
    "            if Train.shape[0] % nBatchSize != 0:\n",
    "\n",
    "                sess.run(train_step, feed_dict = {x: Train[nBatchSize * (nNumTrainBatches - 1): , 2:], \\\n",
    "                                                  label: Train[nBatchSize * (nNumTrainBatches - 1): , 0:2]})\n",
    "\n",
    "            train_acc = sess.run(accuracy, feed_dict = {x: Train[:, 2:], label: Train[:, 0:2]})\n",
    "            train_accuracy_list += [train_acc]\n",
    "                \n",
    "            valid_acc = sess.run(accuracy, feed_dict = {x: Valid[:, 2:], label: Valid[:, 0:2]})\n",
    "            valid_accuracy_list += [valid_acc]\n",
    "            \n",
    "            if valid_acc > max_valid_acc:\n",
    "                \n",
    "                max_valid_acc = valid_acc\n",
    "                max_train_acc_list = [train_acc]\n",
    "                max_epoch_list = [epoch]\n",
    "        \n",
    "            elif (valid_acc == max_valid_acc) and (train_acc not in max_train_acc_list): \n",
    "                \n",
    "                max_train_acc_list += [train_acc]\n",
    "                max_epoch_list += [epoch]\n",
    "        \n",
    "        for i in range(len(max_epoch_list)):\n",
    "        \n",
    "            print('Epoch: {}, train accuracy: {:.3}, valid accuracy: {:.3}'.format(max_epoch_list[i], max_train_acc_list[i], max_valid_acc))                \n",
    "        \n",
    "plt.plot(valid_accuracy_list, label = \"1 hidden layer\")"
   ]
  },
  {
   "cell_type": "code",
   "execution_count": 9,
   "metadata": {
    "scrolled": false
   },
   "outputs": [
    {
     "name": "stdout",
     "output_type": "stream",
     "text": [
      "Epoch: 18794, train accuracy: 0.994, valid accuracy: 0.974\n"
     ]
    },
    {
     "data": {
      "text/plain": [
       "[<matplotlib.lines.Line2D at 0x7f27e86f8cf8>]"
      ]
     },
     "execution_count": 9,
     "metadata": {},
     "output_type": "execute_result"
    }
   ],
   "source": [
    "nBatchSize = 32\n",
    "nNumTrainBatches = math.ceil(nNumTrainData / nBatchSize)\n",
    "\n",
    "tf.reset_default_graph()\n",
    "tf.set_random_seed(777)\n",
    "np.random.seed(777)\n",
    "\n",
    "x = tf.placeholder(tf.float32, [None, 30]) # input: 30 features of breast cancer tissues\n",
    "label = tf.placeholder(tf.float32, [None, 2]) # true labels\n",
    "\n",
    "# 2 hidden layers\n",
    "y = model(x, 2)\n",
    "\n",
    "loss = tf.reduce_mean(tf.nn.softmax_cross_entropy_with_logits_v2(labels = label, logits = y)) # cross entropy loss\n",
    "accuracy = tf.reduce_mean(tf.cast(tf.equal(tf.argmax(label, 1), tf.argmax(y, 1)), \"float\"))\n",
    "train_step = tf.train.AdamOptimizer(1e-4).minimize(loss) # learn_rate = 1e-4\n",
    "\n",
    "with tf.Session() as sess:    \n",
    "\n",
    "    with tf.device(\"/gpu:0\") as dev:\n",
    "\n",
    "        train_accuracy_list = []\n",
    "        valid_accuracy_list = []\n",
    "        \n",
    "        max_valid_acc = 0.0\n",
    "        max_train_acc_list = []\n",
    "        max_epoch_list = []\n",
    "        \n",
    "        tf.global_variables_initializer().run()\n",
    "\n",
    "        for epoch in range(nNumEpochs):\n",
    "\n",
    "            for it in range(nNumTrainBatches - 1):\n",
    "\n",
    "                sess.run(train_step, feed_dict = {x: Train[nBatchSize * it: nBatchSize * (it + 1), 2:], \\\n",
    "                                                  label: Train[nBatchSize * it: nBatchSize * (it + 1), 0:2]})\n",
    "\n",
    "            if Train.shape[0] % nBatchSize != 0:\n",
    "\n",
    "                sess.run(train_step, feed_dict = {x: Train[nBatchSize * (nNumTrainBatches - 1): , 2:], \\\n",
    "                                                  label: Train[nBatchSize * (nNumTrainBatches - 1): , 0:2]})\n",
    "\n",
    "            train_acc = sess.run(accuracy, feed_dict = {x: Train[:, 2:], label: Train[:, 0:2]})\n",
    "            train_accuracy_list += [train_acc]\n",
    "                \n",
    "            valid_acc = sess.run(accuracy, feed_dict = {x: Valid[:, 2:], label: Valid[:, 0:2]})\n",
    "            valid_accuracy_list += [valid_acc]\n",
    "            \n",
    "            if valid_acc > max_valid_acc:\n",
    "                \n",
    "                max_valid_acc = valid_acc\n",
    "                max_train_acc_list = [train_acc]\n",
    "                max_epoch_list = [epoch]\n",
    "        \n",
    "            elif (valid_acc == max_valid_acc) and (train_acc not in max_train_acc_list): \n",
    "                \n",
    "                max_train_acc_list += [train_acc]\n",
    "                max_epoch_list += [epoch]\n",
    "        \n",
    "        for i in range(len(max_epoch_list)):\n",
    "        \n",
    "            print('Epoch: {}, train accuracy: {:.3}, valid accuracy: {:.3}'.format(max_epoch_list[i], max_train_acc_list[i], max_valid_acc))\n",
    "\n",
    "plt.plot(valid_accuracy_list, label = \"2 hidden layers\")"
   ]
  },
  {
   "cell_type": "code",
   "execution_count": 10,
   "metadata": {
    "scrolled": false
   },
   "outputs": [
    {
     "name": "stdout",
     "output_type": "stream",
     "text": [
      "Epoch: 21357, train accuracy: 0.956, valid accuracy: 0.982\n"
     ]
    },
    {
     "data": {
      "text/plain": [
       "[<matplotlib.lines.Line2D at 0x7f27e86e3ac8>]"
      ]
     },
     "execution_count": 10,
     "metadata": {},
     "output_type": "execute_result"
    }
   ],
   "source": [
    "nBatchSize = 32\n",
    "nNumTrainBatches = math.ceil(nNumTrainData / nBatchSize)\n",
    "\n",
    "tf.reset_default_graph()\n",
    "tf.set_random_seed(777)\n",
    "np.random.seed(777)\n",
    "\n",
    "x = tf.placeholder(tf.float32, [None, 30]) # input: 30 features of breast cancer tissues\n",
    "label = tf.placeholder(tf.float32, [None, 2]) # true labels\n",
    "\n",
    "# 3 hidden layers\n",
    "y = model(x, 3)\n",
    "\n",
    "loss = tf.reduce_mean(tf.nn.softmax_cross_entropy_with_logits_v2(labels = label, logits = y)) # cross entropy loss\n",
    "accuracy = tf.reduce_mean(tf.cast(tf.equal(tf.argmax(label, 1), tf.argmax(y, 1)), \"float\"))\n",
    "train_step = tf.train.AdamOptimizer(1e-4).minimize(loss) # learn_rate = 1e-4\n",
    "\n",
    "with tf.Session() as sess:    \n",
    "\n",
    "    with tf.device(\"/gpu:0\") as dev:\n",
    "\n",
    "        train_accuracy_list = []\n",
    "        valid_accuracy_list = []\n",
    "        \n",
    "        max_valid_acc = 0.0\n",
    "        max_train_acc_list = []\n",
    "        max_epoch_list = []\n",
    "        \n",
    "        tf.global_variables_initializer().run()\n",
    "\n",
    "        for epoch in range(nNumEpochs):\n",
    "\n",
    "            for it in range(nNumTrainBatches - 1):\n",
    "\n",
    "                sess.run(train_step, feed_dict = {x: Train[nBatchSize * it: nBatchSize * (it + 1), 2:], \\\n",
    "                                                  label: Train[nBatchSize * it: nBatchSize * (it + 1), 0:2]})\n",
    "\n",
    "            if Train.shape[0] % nBatchSize != 0:\n",
    "\n",
    "                sess.run(train_step, feed_dict = {x: Train[nBatchSize * (nNumTrainBatches - 1): , 2:], \\\n",
    "                                                  label: Train[nBatchSize * (nNumTrainBatches - 1): , 0:2]})\n",
    "\n",
    "            train_acc = sess.run(accuracy, feed_dict = {x: Train[:, 2:], label: Train[:, 0:2]})\n",
    "            train_accuracy_list += [train_acc]\n",
    "                \n",
    "            valid_acc = sess.run(accuracy, feed_dict = {x: Valid[:, 2:], label: Valid[:, 0:2]})\n",
    "            valid_accuracy_list += [valid_acc]\n",
    "            \n",
    "            if valid_acc > max_valid_acc:\n",
    "                \n",
    "                max_valid_acc = valid_acc\n",
    "                max_train_acc_list = [train_acc]\n",
    "                max_epoch_list = [epoch]\n",
    "        \n",
    "            elif (valid_acc == max_valid_acc) and (train_acc not in max_train_acc_list): \n",
    "                \n",
    "                max_train_acc_list += [train_acc]\n",
    "                max_epoch_list += [epoch]\n",
    "        \n",
    "        for i in range(len(max_epoch_list)):\n",
    "        \n",
    "            print('Epoch: {}, train accuracy: {:.3}, valid accuracy: {:.3}'.format(max_epoch_list[i], max_train_acc_list[i], max_valid_acc))\n",
    "\n",
    "plt.plot(valid_accuracy_list, label = \"3 hidden layers\")"
   ]
  },
  {
   "cell_type": "code",
   "execution_count": 11,
   "metadata": {
    "scrolled": false
   },
   "outputs": [
    {
     "name": "stdout",
     "output_type": "stream",
     "text": [
      "Epoch: 10744, train accuracy: 0.994, valid accuracy: 0.982\n"
     ]
    },
    {
     "data": {
      "text/plain": [
       "[<matplotlib.lines.Line2D at 0x7f27d8ca8cc0>]"
      ]
     },
     "execution_count": 11,
     "metadata": {},
     "output_type": "execute_result"
    }
   ],
   "source": [
    "nBatchSize = 32\n",
    "nNumTrainBatches = math.ceil(nNumTrainData / nBatchSize)\n",
    "\n",
    "tf.reset_default_graph()\n",
    "tf.set_random_seed(777)\n",
    "np.random.seed(777)\n",
    "\n",
    "x = tf.placeholder(tf.float32, [None, 30]) # input: 30 features of breast cancer tissues\n",
    "label = tf.placeholder(tf.float32, [None, 2]) # true labels\n",
    "\n",
    "# 4 hidden layers\n",
    "y = model(x, 4)\n",
    "\n",
    "loss = tf.reduce_mean(tf.nn.softmax_cross_entropy_with_logits_v2(labels = label, logits = y)) # cross entropy loss\n",
    "accuracy = tf.reduce_mean(tf.cast(tf.equal(tf.argmax(label, 1), tf.argmax(y, 1)), \"float\"))\n",
    "train_step = tf.train.AdamOptimizer(1e-4).minimize(loss) # learn_rate = 1e-4\n",
    "\n",
    "with tf.Session() as sess:    \n",
    "\n",
    "    with tf.device(\"/gpu:0\") as dev:\n",
    "\n",
    "        train_accuracy_list = []\n",
    "        valid_accuracy_list = []\n",
    "        \n",
    "        max_valid_acc = 0.0\n",
    "        max_train_acc_list = []\n",
    "        max_epoch_list = []\n",
    "        \n",
    "        tf.global_variables_initializer().run()\n",
    "\n",
    "        for epoch in range(nNumEpochs):\n",
    "\n",
    "            for it in range(nNumTrainBatches - 1):\n",
    "\n",
    "                sess.run(train_step, feed_dict = {x: Train[nBatchSize * it: nBatchSize * (it + 1), 2:], \\\n",
    "                                                  label: Train[nBatchSize * it: nBatchSize * (it + 1), 0:2]})\n",
    "\n",
    "            if Train.shape[0] % nBatchSize != 0:\n",
    "\n",
    "                sess.run(train_step, feed_dict = {x: Train[nBatchSize * (nNumTrainBatches - 1): , 2:], \\\n",
    "                                                  label: Train[nBatchSize * (nNumTrainBatches - 1): , 0:2]})\n",
    "\n",
    "            train_acc = sess.run(accuracy, feed_dict = {x: Train[:, 2:], label: Train[:, 0:2]})\n",
    "            train_accuracy_list += [train_acc]\n",
    "                \n",
    "            valid_acc = sess.run(accuracy, feed_dict = {x: Valid[:, 2:], label: Valid[:, 0:2]})\n",
    "            valid_accuracy_list += [valid_acc]\n",
    "            \n",
    "            if valid_acc > max_valid_acc:\n",
    "                \n",
    "                max_valid_acc = valid_acc\n",
    "                max_train_acc_list = [train_acc]\n",
    "                max_epoch_list = [epoch]\n",
    "        \n",
    "            elif (valid_acc == max_valid_acc) and (train_acc not in max_train_acc_list): \n",
    "                \n",
    "                max_train_acc_list += [train_acc]\n",
    "                max_epoch_list += [epoch]\n",
    "        \n",
    "        for i in range(len(max_epoch_list)):\n",
    "        \n",
    "            print('Epoch: {}, train accuracy: {:.3}, valid accuracy: {:.3}'.format(max_epoch_list[i], max_train_acc_list[i], max_valid_acc))\n",
    "\n",
    "plt.plot(valid_accuracy_list, label = \"4 hidden layers\")"
   ]
  },
  {
   "cell_type": "code",
   "execution_count": 12,
   "metadata": {
    "scrolled": false
   },
   "outputs": [
    {
     "name": "stdout",
     "output_type": "stream",
     "text": [
      "Epoch: 13500, train accuracy: 0.982, valid accuracy: 0.982\n",
      "Epoch: 15087, train accuracy: 0.959, valid accuracy: 0.982\n",
      "Epoch: 20778, train accuracy: 0.988, valid accuracy: 0.982\n",
      "Epoch: 25687, train accuracy: 0.985, valid accuracy: 0.982\n",
      "Epoch: 29476, train accuracy: 0.974, valid accuracy: 0.982\n"
     ]
    },
    {
     "data": {
      "text/plain": [
       "[<matplotlib.lines.Line2D at 0x7f27d85fce48>]"
      ]
     },
     "execution_count": 12,
     "metadata": {},
     "output_type": "execute_result"
    }
   ],
   "source": [
    "nBatchSize = 32\n",
    "nNumTrainBatches = math.ceil(nNumTrainData / nBatchSize)\n",
    "\n",
    "tf.reset_default_graph()\n",
    "tf.set_random_seed(777)\n",
    "np.random.seed(777)\n",
    "\n",
    "x = tf.placeholder(tf.float32, [None, 30]) # input: 30 features of breast cancer tissues\n",
    "label = tf.placeholder(tf.float32, [None, 2]) # true labels\n",
    "\n",
    "# 5 hidden layers\n",
    "y = model(x, 5)\n",
    "\n",
    "loss = tf.reduce_mean(tf.nn.softmax_cross_entropy_with_logits_v2(labels = label, logits = y)) # cross entropy loss\n",
    "accuracy = tf.reduce_mean(tf.cast(tf.equal(tf.argmax(label, 1), tf.argmax(y, 1)), \"float\"))\n",
    "train_step = tf.train.AdamOptimizer(1e-4).minimize(loss) # learn_rate = 1e-4\n",
    "\n",
    "with tf.Session() as sess:    \n",
    "\n",
    "    with tf.device(\"/gpu:0\") as dev:\n",
    "\n",
    "        train_accuracy_list = []\n",
    "        valid_accuracy_list = []\n",
    "        \n",
    "        max_valid_acc = 0.0\n",
    "        max_train_acc_list = []\n",
    "        max_epoch_list = []\n",
    "        \n",
    "        tf.global_variables_initializer().run()\n",
    "\n",
    "        for epoch in range(nNumEpochs):\n",
    "\n",
    "            for it in range(nNumTrainBatches - 1):\n",
    "\n",
    "                sess.run(train_step, feed_dict = {x: Train[nBatchSize * it: nBatchSize * (it + 1), 2:], \\\n",
    "                                                  label: Train[nBatchSize * it: nBatchSize * (it + 1), 0:2]})\n",
    "\n",
    "            if Train.shape[0] % nBatchSize != 0:\n",
    "\n",
    "                sess.run(train_step, feed_dict = {x: Train[nBatchSize * (nNumTrainBatches - 1): , 2:], \\\n",
    "                                                  label: Train[nBatchSize * (nNumTrainBatches - 1): , 0:2]})\n",
    "\n",
    "            train_acc = sess.run(accuracy, feed_dict = {x: Train[:, 2:], label: Train[:, 0:2]})\n",
    "            train_accuracy_list += [train_acc]\n",
    "                \n",
    "            valid_acc = sess.run(accuracy, feed_dict = {x: Valid[:, 2:], label: Valid[:, 0:2]})\n",
    "            valid_accuracy_list += [valid_acc]\n",
    "            \n",
    "            if valid_acc > max_valid_acc:\n",
    "                \n",
    "                max_valid_acc = valid_acc\n",
    "                max_train_acc_list = [train_acc]\n",
    "                max_epoch_list = [epoch]\n",
    "        \n",
    "            elif (valid_acc == max_valid_acc) and (train_acc not in max_train_acc_list): \n",
    "                \n",
    "                max_train_acc_list += [train_acc]\n",
    "                max_epoch_list += [epoch]\n",
    "        \n",
    "        for i in range(len(max_epoch_list)):\n",
    "        \n",
    "            print('Epoch: {}, train accuracy: {:.3}, valid accuracy: {:.3}'.format(max_epoch_list[i], max_train_acc_list[i], max_valid_acc))\n",
    "\n",
    "plt.plot(valid_accuracy_list, label = \"5 hidden layers\")"
   ]
  },
  {
   "cell_type": "code",
   "execution_count": 13,
   "metadata": {
    "scrolled": false
   },
   "outputs": [
    {
     "data": {
      "image/png": "[encoded data removed]",
      "text/plain": [
       "<matplotlib.figure.Figure at 0x7f286806dd68>"
      ]
     },
     "metadata": {},
     "output_type": "display_data"
    }
   ],
   "source": [
    "plt.xlabel('epoch')\n",
    "plt.ylabel('validation accuracy')\n",
    "plt.legend()\n",
    "plt.show()\n",
    "plt.close()"
   ]
  },
  {
   "cell_type": "markdown",
   "metadata": {},
   "source": [
    "## Batch Size Optimization\n",
    "Set the number of hidden layers = 4. Fix learn_rate = 1e-4. Optimize the batch size."
   ]
  },
  {
   "cell_type": "code",
   "execution_count": 14,
   "metadata": {},
   "outputs": [
    {
     "name": "stdout",
     "output_type": "stream",
     "text": [
      "Epoch: 11586, train accuracy: 0.985, valid accuracy: 0.982\n",
      "Epoch: 11754, train accuracy: 0.982, valid accuracy: 0.982\n",
      "Epoch: 14913, train accuracy: 0.971, valid accuracy: 0.982\n",
      "Epoch: 18858, train accuracy: 0.994, valid accuracy: 0.982\n",
      "Epoch: 19417, train accuracy: 1.0, valid accuracy: 0.982\n",
      "Epoch: 19422, train accuracy: 0.997, valid accuracy: 0.982\n",
      "Epoch: 19902, train accuracy: 0.988, valid accuracy: 0.982\n",
      "Epoch: 20799, train accuracy: 0.991, valid accuracy: 0.982\n",
      "Epoch: 29790, train accuracy: 0.977, valid accuracy: 0.982\n"
     ]
    },
    {
     "data": {
      "text/plain": [
       "[<matplotlib.lines.Line2D at 0x7f27d83946d8>]"
      ]
     },
     "execution_count": 14,
     "metadata": {},
     "output_type": "execute_result"
    }
   ],
   "source": [
    "nBatchSize = 16\n",
    "nNumTrainBatches = math.ceil(nNumTrainData / nBatchSize)\n",
    "\n",
    "tf.reset_default_graph()\n",
    "tf.set_random_seed(777)\n",
    "np.random.seed(777)\n",
    "\n",
    "x = tf.placeholder(tf.float32, [None, 30]) # input: 30 features of breast cancer tissues\n",
    "label = tf.placeholder(tf.float32, [None, 2]) # true labels\n",
    "\n",
    "# 4 hidden layers\n",
    "y = model(x, 4)\n",
    "\n",
    "loss = tf.reduce_mean(tf.nn.softmax_cross_entropy_with_logits_v2(labels = label, logits = y)) # cross entropy loss\n",
    "accuracy = tf.reduce_mean(tf.cast(tf.equal(tf.argmax(label, 1), tf.argmax(y, 1)), \"float\"))\n",
    "train_step = tf.train.AdamOptimizer(1e-4).minimize(loss) # learn_rate = 1e-4\n",
    "\n",
    "with tf.Session() as sess:    \n",
    "\n",
    "    with tf.device(\"/gpu:0\") as dev:\n",
    "\n",
    "        train_accuracy_list = []\n",
    "        valid_accuracy_list = []\n",
    "        \n",
    "        max_valid_acc = 0.0\n",
    "        max_train_acc_list = []\n",
    "        max_epoch_list = []\n",
    "        \n",
    "        tf.global_variables_initializer().run()\n",
    "\n",
    "        for epoch in range(nNumEpochs):\n",
    "\n",
    "            for it in range(nNumTrainBatches - 1):\n",
    "\n",
    "                sess.run(train_step, feed_dict = {x: Train[nBatchSize * it: nBatchSize * (it + 1), 2:], \\\n",
    "                                                  label: Train[nBatchSize * it: nBatchSize * (it + 1), 0:2]})\n",
    "\n",
    "            if Train.shape[0] % nBatchSize != 0:\n",
    "\n",
    "                sess.run(train_step, feed_dict = {x: Train[nBatchSize * (nNumTrainBatches - 1): , 2:], \\\n",
    "                                                  label: Train[nBatchSize * (nNumTrainBatches - 1): , 0:2]})\n",
    "\n",
    "            train_acc = sess.run(accuracy, feed_dict = {x: Train[:, 2:], label: Train[:, 0:2]})\n",
    "            train_accuracy_list += [train_acc]\n",
    "                \n",
    "            valid_acc = sess.run(accuracy, feed_dict = {x: Valid[:, 2:], label: Valid[:, 0:2]})\n",
    "            valid_accuracy_list += [valid_acc]\n",
    "            \n",
    "            if valid_acc > max_valid_acc:\n",
    "                \n",
    "                max_valid_acc = valid_acc\n",
    "                max_train_acc_list = [train_acc]\n",
    "                max_epoch_list = [epoch]\n",
    "        \n",
    "            elif (valid_acc == max_valid_acc) and (train_acc not in max_train_acc_list): \n",
    "                \n",
    "                max_train_acc_list += [train_acc]\n",
    "                max_epoch_list += [epoch]\n",
    "        \n",
    "        for i in range(len(max_epoch_list)):\n",
    "        \n",
    "            print('Epoch: {}, train accuracy: {:.3}, valid accuracy: {:.3}'.format(max_epoch_list[i], max_train_acc_list[i], max_valid_acc))\n",
    "\n",
    "plt.plot(valid_accuracy_list, label = \"Batch size 16\")"
   ]
  },
  {
   "cell_type": "code",
   "execution_count": 15,
   "metadata": {
    "scrolled": true
   },
   "outputs": [
    {
     "name": "stdout",
     "output_type": "stream",
     "text": [
      "Epoch: 10745, train accuracy: 0.994, valid accuracy: 0.982\n"
     ]
    },
    {
     "data": {
      "text/plain": [
       "[<matplotlib.lines.Line2D at 0x7f27d8ca8128>]"
      ]
     },
     "execution_count": 15,
     "metadata": {},
     "output_type": "execute_result"
    }
   ],
   "source": [
    "nBatchSize = 32\n",
    "nNumTrainBatches = math.ceil(nNumTrainData / nBatchSize)\n",
    "\n",
    "tf.reset_default_graph()\n",
    "tf.set_random_seed(777)\n",
    "np.random.seed(777)\n",
    "\n",
    "x = tf.placeholder(tf.float32, [None, 30]) # input: 30 features of breast cancer tissues\n",
    "label = tf.placeholder(tf.float32, [None, 2]) # true labels\n",
    "\n",
    "# 4 hidden layers\n",
    "y = model(x, 4)\n",
    "\n",
    "loss = tf.reduce_mean(tf.nn.softmax_cross_entropy_with_logits_v2(labels = label, logits = y)) # cross entropy loss\n",
    "accuracy = tf.reduce_mean(tf.cast(tf.equal(tf.argmax(label, 1), tf.argmax(y, 1)), \"float\"))\n",
    "train_step = tf.train.AdamOptimizer(1e-4).minimize(loss) # learn_rate = 1e-4\n",
    "\n",
    "with tf.Session() as sess:    \n",
    "\n",
    "    with tf.device(\"/gpu:0\") as dev:\n",
    "\n",
    "        train_accuracy_list = []\n",
    "        valid_accuracy_list = []\n",
    "        \n",
    "        max_valid_acc = 0.0\n",
    "        max_train_acc_list = []\n",
    "        max_epoch_list = []\n",
    "        \n",
    "        tf.global_variables_initializer().run()\n",
    "\n",
    "        for epoch in range(nNumEpochs):\n",
    "\n",
    "            for it in range(nNumTrainBatches - 1):\n",
    "\n",
    "                sess.run(train_step, feed_dict = {x: Train[nBatchSize * it: nBatchSize * (it + 1), 2:], \\\n",
    "                                                  label: Train[nBatchSize * it: nBatchSize * (it + 1), 0:2]})\n",
    "\n",
    "            if Train.shape[0] % nBatchSize != 0:\n",
    "\n",
    "                sess.run(train_step, feed_dict = {x: Train[nBatchSize * (nNumTrainBatches - 1): , 2:], \\\n",
    "                                                  label: Train[nBatchSize * (nNumTrainBatches - 1): , 0:2]})\n",
    "\n",
    "            train_acc = sess.run(accuracy, feed_dict = {x: Train[:, 2:], label: Train[:, 0:2]})\n",
    "            train_accuracy_list += [train_acc]\n",
    "                \n",
    "            valid_acc = sess.run(accuracy, feed_dict = {x: Valid[:, 2:], label: Valid[:, 0:2]})\n",
    "            valid_accuracy_list += [valid_acc]\n",
    "            \n",
    "            if valid_acc > max_valid_acc:\n",
    "                \n",
    "                max_valid_acc = valid_acc\n",
    "                max_train_acc_list = [train_acc]\n",
    "                max_epoch_list = [epoch]\n",
    "        \n",
    "            elif (valid_acc == max_valid_acc) and (train_acc not in max_train_acc_list): \n",
    "                \n",
    "                max_train_acc_list += [train_acc]\n",
    "                max_epoch_list += [epoch]\n",
    "        \n",
    "        for i in range(len(max_epoch_list)):\n",
    "        \n",
    "            print('Epoch: {}, train accuracy: {:.3}, valid accuracy: {:.3}'.format(max_epoch_list[i], max_train_acc_list[i], max_valid_acc))\n",
    "\n",
    "plt.plot(valid_accuracy_list, label = \"Batch size 32\")"
   ]
  },
  {
   "cell_type": "code",
   "execution_count": 16,
   "metadata": {
    "scrolled": false
   },
   "outputs": [
    {
     "name": "stdout",
     "output_type": "stream",
     "text": [
      "Epoch: 12098, train accuracy: 0.971, valid accuracy: 0.991\n"
     ]
    },
    {
     "data": {
      "text/plain": [
       "[<matplotlib.lines.Line2D at 0x7f282c479eb8>]"
      ]
     },
     "execution_count": 16,
     "metadata": {},
     "output_type": "execute_result"
    }
   ],
   "source": [
    "nBatchSize = 64\n",
    "nNumTrainBatches = math.ceil(nNumTrainData / nBatchSize)\n",
    "\n",
    "tf.reset_default_graph()\n",
    "tf.set_random_seed(777)\n",
    "np.random.seed(777)\n",
    "\n",
    "x = tf.placeholder(tf.float32, [None, 30]) # input: 30 features of breast cancer tissues\n",
    "label = tf.placeholder(tf.float32, [None, 2]) # true labels\n",
    "\n",
    "# 4 hidden layers\n",
    "y = model(x, 4)\n",
    "\n",
    "loss = tf.reduce_mean(tf.nn.softmax_cross_entropy_with_logits_v2(labels = label, logits = y)) # cross entropy loss\n",
    "accuracy = tf.reduce_mean(tf.cast(tf.equal(tf.argmax(label, 1), tf.argmax(y, 1)), \"float\"))\n",
    "train_step = tf.train.AdamOptimizer(1e-4).minimize(loss) # learn_rate = 1e-4\n",
    "\n",
    "with tf.Session() as sess:    \n",
    "\n",
    "    with tf.device(\"/gpu:0\") as dev:\n",
    "\n",
    "        train_accuracy_list = []\n",
    "        valid_accuracy_list = []\n",
    "        \n",
    "        max_valid_acc = 0.0\n",
    "        max_train_acc_list = []\n",
    "        max_epoch_list = []\n",
    "        \n",
    "        tf.global_variables_initializer().run()\n",
    "\n",
    "        for epoch in range(nNumEpochs):\n",
    "\n",
    "            for it in range(nNumTrainBatches - 1):\n",
    "\n",
    "                sess.run(train_step, feed_dict = {x: Train[nBatchSize * it: nBatchSize * (it + 1), 2:], \\\n",
    "                                                  label: Train[nBatchSize * it: nBatchSize * (it + 1), 0:2]})\n",
    "\n",
    "            if Train.shape[0] % nBatchSize != 0:\n",
    "\n",
    "                sess.run(train_step, feed_dict = {x: Train[nBatchSize * (nNumTrainBatches - 1): , 2:], \\\n",
    "                                                  label: Train[nBatchSize * (nNumTrainBatches - 1): , 0:2]})\n",
    "\n",
    "            train_acc = sess.run(accuracy, feed_dict = {x: Train[:, 2:], label: Train[:, 0:2]})\n",
    "            train_accuracy_list += [train_acc]\n",
    "                \n",
    "            valid_acc = sess.run(accuracy, feed_dict = {x: Valid[:, 2:], label: Valid[:, 0:2]})\n",
    "            valid_accuracy_list += [valid_acc]\n",
    "            \n",
    "            if valid_acc > max_valid_acc:\n",
    "                \n",
    "                max_valid_acc = valid_acc\n",
    "                max_train_acc_list = [train_acc]\n",
    "                max_epoch_list = [epoch]\n",
    "        \n",
    "            elif (valid_acc == max_valid_acc) and (train_acc not in max_train_acc_list): \n",
    "                \n",
    "                max_train_acc_list += [train_acc]\n",
    "                max_epoch_list += [epoch]\n",
    "        \n",
    "        for i in range(len(max_epoch_list)):\n",
    "        \n",
    "            print('Epoch: {}, train accuracy: {:.3}, valid accuracy: {:.3}'.format(max_epoch_list[i], max_train_acc_list[i], max_valid_acc))\n",
    "\n",
    "plt.plot(valid_accuracy_list, label = \"Batch size 64\")"
   ]
  },
  {
   "cell_type": "code",
   "execution_count": 17,
   "metadata": {},
   "outputs": [
    {
     "name": "stdout",
     "output_type": "stream",
     "text": [
      "Epoch: 23144, train accuracy: 0.988, valid accuracy: 0.974\n",
      "Epoch: 23600, train accuracy: 0.985, valid accuracy: 0.974\n",
      "Epoch: 23605, train accuracy: 0.977, valid accuracy: 0.974\n",
      "Epoch: 24021, train accuracy: 0.982, valid accuracy: 0.974\n",
      "Epoch: 24046, train accuracy: 0.979, valid accuracy: 0.974\n",
      "Epoch: 24064, train accuracy: 0.991, valid accuracy: 0.974\n",
      "Epoch: 24554, train accuracy: 0.965, valid accuracy: 0.974\n",
      "Epoch: 24557, train accuracy: 0.971, valid accuracy: 0.974\n",
      "Epoch: 24572, train accuracy: 0.994, valid accuracy: 0.974\n",
      "Epoch: 25244, train accuracy: 0.962, valid accuracy: 0.974\n",
      "Epoch: 25835, train accuracy: 0.968, valid accuracy: 0.974\n",
      "Epoch: 25838, train accuracy: 0.974, valid accuracy: 0.974\n"
     ]
    },
    {
     "data": {
      "text/plain": [
       "[<matplotlib.lines.Line2D at 0x7f27d8b9c828>]"
      ]
     },
     "execution_count": 17,
     "metadata": {},
     "output_type": "execute_result"
    }
   ],
   "source": [
    "nBatchSize = 128\n",
    "nNumTrainBatches = math.ceil(nNumTrainData / nBatchSize)\n",
    "\n",
    "tf.reset_default_graph()\n",
    "tf.set_random_seed(777)\n",
    "np.random.seed(777)\n",
    "\n",
    "x = tf.placeholder(tf.float32, [None, 30]) # input: 30 features of breast cancer tissues\n",
    "label = tf.placeholder(tf.float32, [None, 2]) # true labels\n",
    "\n",
    "# 4 hidden layers\n",
    "y = model(x, 4)\n",
    "\n",
    "loss = tf.reduce_mean(tf.nn.softmax_cross_entropy_with_logits_v2(labels = label, logits = y)) # cross entropy loss\n",
    "accuracy = tf.reduce_mean(tf.cast(tf.equal(tf.argmax(label, 1), tf.argmax(y, 1)), \"float\"))\n",
    "train_step = tf.train.AdamOptimizer(1e-4).minimize(loss) # learn_rate = 1e-4\n",
    "\n",
    "with tf.Session() as sess:    \n",
    "\n",
    "    with tf.device(\"/gpu:0\") as dev:\n",
    "\n",
    "        train_accuracy_list = []\n",
    "        valid_accuracy_list = []\n",
    "        \n",
    "        max_valid_acc = 0.0\n",
    "        max_train_acc_list = []\n",
    "        max_epoch_list = []\n",
    "        \n",
    "        tf.global_variables_initializer().run()\n",
    "\n",
    "        for epoch in range(nNumEpochs):\n",
    "\n",
    "            for it in range(nNumTrainBatches - 1):\n",
    "\n",
    "                sess.run(train_step, feed_dict = {x: Train[nBatchSize * it: nBatchSize * (it + 1), 2:], \\\n",
    "                                                  label: Train[nBatchSize * it: nBatchSize * (it + 1), 0:2]})\n",
    "\n",
    "            if Train.shape[0] % nBatchSize != 0:\n",
    "\n",
    "                sess.run(train_step, feed_dict = {x: Train[nBatchSize * (nNumTrainBatches - 1): , 2:], \\\n",
    "                                                  label: Train[nBatchSize * (nNumTrainBatches - 1): , 0:2]})\n",
    "\n",
    "            train_acc = sess.run(accuracy, feed_dict = {x: Train[:, 2:], label: Train[:, 0:2]})\n",
    "            train_accuracy_list += [train_acc]\n",
    "                \n",
    "            valid_acc = sess.run(accuracy, feed_dict = {x: Valid[:, 2:], label: Valid[:, 0:2]})\n",
    "            valid_accuracy_list += [valid_acc]\n",
    "            \n",
    "            if valid_acc > max_valid_acc:\n",
    "                \n",
    "                max_valid_acc = valid_acc\n",
    "                max_train_acc_list = [train_acc]\n",
    "                max_epoch_list = [epoch]\n",
    "        \n",
    "            elif (valid_acc == max_valid_acc) and (train_acc not in max_train_acc_list): \n",
    "                \n",
    "                max_train_acc_list += [train_acc]\n",
    "                max_epoch_list += [epoch]\n",
    "        \n",
    "        for i in range(len(max_epoch_list)):\n",
    "        \n",
    "            print('Epoch: {}, train accuracy: {:.3}, valid accuracy: {:.3}'.format(max_epoch_list[i], max_train_acc_list[i], max_valid_acc))\n",
    "\n",
    "plt.plot(valid_accuracy_list, label = \"Batch size 128\")"
   ]
  },
  {
   "cell_type": "code",
   "execution_count": 18,
   "metadata": {
    "scrolled": false
   },
   "outputs": [
    {
     "data": {
      "image/png": "[encoded data removed]",
      "text/plain": [
       "<matplotlib.figure.Figure at 0x7f27d805fe80>"
      ]
     },
     "metadata": {},
     "output_type": "display_data"
    }
   ],
   "source": [
    "plt.xlabel('epoch')\n",
    "plt.ylabel('validation accuracy')\n",
    "plt.legend()\n",
    "plt.show()\n",
    "plt.close()"
   ]
  },
  {
   "cell_type": "markdown",
   "metadata": {},
   "source": [
    "## Learning Rate Optimization\n",
    "Set the batch size = 64. Optimize the learning rate."
   ]
  },
  {
   "cell_type": "code",
   "execution_count": 20,
   "metadata": {
    "scrolled": false
   },
   "outputs": [
    {
     "name": "stdout",
     "output_type": "stream",
     "text": [
      "Epoch: 0, train accuracy: 0.592, valid accuracy: 0.623\n"
     ]
    },
    {
     "data": {
      "text/plain": [
       "[<matplotlib.lines.Line2D at 0x7f27d333c780>]"
      ]
     },
     "execution_count": 20,
     "metadata": {},
     "output_type": "execute_result"
    }
   ],
   "source": [
    "nBatchSize = 64\n",
    "nNumTrainBatches = math.ceil(nNumTrainData / nBatchSize)\n",
    "\n",
    "tf.reset_default_graph()\n",
    "tf.set_random_seed(777)\n",
    "np.random.seed(777)\n",
    "\n",
    "x = tf.placeholder(tf.float32, [None, 30]) # input: 30 features of breast cancer tissues\n",
    "label = tf.placeholder(tf.float32, [None, 2]) # true labels\n",
    "\n",
    "# 4 hidden layers\n",
    "y = model(x, 4)\n",
    "\n",
    "loss = tf.reduce_mean(tf.nn.softmax_cross_entropy_with_logits_v2(labels = label, logits = y)) # cross entropy loss\n",
    "accuracy = tf.reduce_mean(tf.cast(tf.equal(tf.argmax(label, 1), tf.argmax(y, 1)), \"float\"))\n",
    "train_step = tf.train.AdamOptimizer(1e-2).minimize(loss) # learn_rate = 1e-2\n",
    "\n",
    "with tf.Session() as sess:    \n",
    "\n",
    "    with tf.device(\"/gpu:0\") as dev:\n",
    "\n",
    "        train_accuracy_list = []\n",
    "        valid_accuracy_list = []\n",
    "        \n",
    "        max_valid_acc = 0.0\n",
    "        max_train_acc_list = []\n",
    "        max_epoch_list = []\n",
    "        \n",
    "        tf.global_variables_initializer().run()\n",
    "\n",
    "        for epoch in range(nNumEpochs):\n",
    "\n",
    "            for it in range(nNumTrainBatches - 1):\n",
    "\n",
    "                sess.run(train_step, feed_dict = {x: Train[nBatchSize * it: nBatchSize * (it + 1), 2:], \\\n",
    "                                                  label: Train[nBatchSize * it: nBatchSize * (it + 1), 0:2]})\n",
    "\n",
    "            if Train.shape[0] % nBatchSize != 0:\n",
    "\n",
    "                sess.run(train_step, feed_dict = {x: Train[nBatchSize * (nNumTrainBatches - 1): , 2:], \\\n",
    "                                                  label: Train[nBatchSize * (nNumTrainBatches - 1): , 0:2]})\n",
    "\n",
    "            train_acc = sess.run(accuracy, feed_dict = {x: Train[:, 2:], label: Train[:, 0:2]})\n",
    "            train_accuracy_list += [train_acc]\n",
    "                \n",
    "            valid_acc = sess.run(accuracy, feed_dict = {x: Valid[:, 2:], label: Valid[:, 0:2]})\n",
    "            valid_accuracy_list += [valid_acc]\n",
    "            \n",
    "            if valid_acc > max_valid_acc:\n",
    "                \n",
    "                max_valid_acc = valid_acc\n",
    "                max_train_acc_list = [train_acc]\n",
    "                max_epoch_list = [epoch]\n",
    "        \n",
    "            elif (valid_acc == max_valid_acc) and (train_acc not in max_train_acc_list): \n",
    "                \n",
    "                max_train_acc_list += [train_acc]\n",
    "                max_epoch_list += [epoch]\n",
    "        \n",
    "        for i in range(len(max_epoch_list)):\n",
    "        \n",
    "            print('Epoch: {}, train accuracy: {:.3}, valid accuracy: {:.3}'.format(max_epoch_list[i], max_train_acc_list[i], max_valid_acc))\n",
    "\n",
    "plt.plot(valid_accuracy_list, label = \"Learning rate 1e-2\")"
   ]
  },
  {
   "cell_type": "code",
   "execution_count": 21,
   "metadata": {},
   "outputs": [
    {
     "name": "stdout",
     "output_type": "stream",
     "text": [
      "Epoch: 1832, train accuracy: 0.994, valid accuracy: 0.982\n",
      "Epoch: 1851, train accuracy: 0.991, valid accuracy: 0.982\n",
      "Epoch: 3858, train accuracy: 0.971, valid accuracy: 0.982\n",
      "Epoch: 3861, train accuracy: 0.977, valid accuracy: 0.982\n",
      "Epoch: 11273, train accuracy: 0.982, valid accuracy: 0.982\n",
      "Epoch: 11302, train accuracy: 0.979, valid accuracy: 0.982\n",
      "Epoch: 11468, train accuracy: 0.985, valid accuracy: 0.982\n",
      "Epoch: 17894, train accuracy: 0.988, valid accuracy: 0.982\n",
      "Epoch: 18055, train accuracy: 0.997, valid accuracy: 0.982\n",
      "Epoch: 18345, train accuracy: 1.0, valid accuracy: 0.982\n",
      "Epoch: 19201, train accuracy: 0.974, valid accuracy: 0.982\n",
      "Epoch: 23912, train accuracy: 0.965, valid accuracy: 0.982\n"
     ]
    },
    {
     "data": {
      "text/plain": [
       "[<matplotlib.lines.Line2D at 0x7f27d85fcd68>]"
      ]
     },
     "execution_count": 21,
     "metadata": {},
     "output_type": "execute_result"
    }
   ],
   "source": [
    "nBatchSize = 64\n",
    "nNumTrainBatches = math.ceil(nNumTrainData / nBatchSize)\n",
    "\n",
    "tf.reset_default_graph()\n",
    "tf.set_random_seed(777)\n",
    "np.random.seed(777)\n",
    "\n",
    "x = tf.placeholder(tf.float32, [None, 30]) # input: 30 features of breast cancer tissues\n",
    "label = tf.placeholder(tf.float32, [None, 2]) # true labels\n",
    "\n",
    "# 4 hidden layers\n",
    "y = model(x, 4)\n",
    "\n",
    "loss = tf.reduce_mean(tf.nn.softmax_cross_entropy_with_logits_v2(labels = label, logits = y)) # cross entropy loss\n",
    "accuracy = tf.reduce_mean(tf.cast(tf.equal(tf.argmax(label, 1), tf.argmax(y, 1)), \"float\"))\n",
    "train_step = tf.train.AdamOptimizer(1e-3).minimize(loss) # learn_rate = 1e-3\n",
    "\n",
    "with tf.Session() as sess:    \n",
    "\n",
    "    with tf.device(\"/gpu:0\") as dev:\n",
    "\n",
    "        train_accuracy_list = []\n",
    "        valid_accuracy_list = []\n",
    "        \n",
    "        max_valid_acc = 0.0\n",
    "        max_train_acc_list = []\n",
    "        max_epoch_list = []\n",
    "        \n",
    "        tf.global_variables_initializer().run()\n",
    "\n",
    "        for epoch in range(nNumEpochs):\n",
    "\n",
    "            for it in range(nNumTrainBatches - 1):\n",
    "\n",
    "                sess.run(train_step, feed_dict = {x: Train[nBatchSize * it: nBatchSize * (it + 1), 2:], \\\n",
    "                                                  label: Train[nBatchSize * it: nBatchSize * (it + 1), 0:2]})\n",
    "\n",
    "            if Train.shape[0] % nBatchSize != 0:\n",
    "\n",
    "                sess.run(train_step, feed_dict = {x: Train[nBatchSize * (nNumTrainBatches - 1): , 2:], \\\n",
    "                                                  label: Train[nBatchSize * (nNumTrainBatches - 1): , 0:2]})\n",
    "\n",
    "            train_acc = sess.run(accuracy, feed_dict = {x: Train[:, 2:], label: Train[:, 0:2]})\n",
    "            train_accuracy_list += [train_acc]\n",
    "                \n",
    "            valid_acc = sess.run(accuracy, feed_dict = {x: Valid[:, 2:], label: Valid[:, 0:2]})\n",
    "            valid_accuracy_list += [valid_acc]\n",
    "            \n",
    "            if valid_acc > max_valid_acc:\n",
    "                \n",
    "                max_valid_acc = valid_acc\n",
    "                max_train_acc_list = [train_acc]\n",
    "                max_epoch_list = [epoch]\n",
    "        \n",
    "            elif (valid_acc == max_valid_acc) and (train_acc not in max_train_acc_list): \n",
    "                \n",
    "                max_train_acc_list += [train_acc]\n",
    "                max_epoch_list += [epoch]\n",
    "        \n",
    "        for i in range(len(max_epoch_list)):\n",
    "        \n",
    "            print('Epoch: {}, train accuracy: {:.3}, valid accuracy: {:.3}'.format(max_epoch_list[i], max_train_acc_list[i], max_valid_acc))\n",
    "\n",
    "plt.plot(valid_accuracy_list, label = \"Learning rate 1e-3\")"
   ]
  },
  {
   "cell_type": "code",
   "execution_count": 22,
   "metadata": {
    "scrolled": false
   },
   "outputs": [
    {
     "name": "stdout",
     "output_type": "stream",
     "text": [
      "Epoch: 11663, train accuracy: 0.968, valid accuracy: 0.991\n",
      "Epoch: 13064, train accuracy: 0.977, valid accuracy: 0.991\n"
     ]
    },
    {
     "data": {
      "text/plain": [
       "[<matplotlib.lines.Line2D at 0x7f27d8cb86a0>]"
      ]
     },
     "execution_count": 22,
     "metadata": {},
     "output_type": "execute_result"
    }
   ],
   "source": [
    "nBatchSize = 64\n",
    "nNumTrainBatches = math.ceil(nNumTrainData / nBatchSize)\n",
    "\n",
    "tf.reset_default_graph()\n",
    "tf.set_random_seed(777)\n",
    "np.random.seed(777)\n",
    "\n",
    "x = tf.placeholder(tf.float32, [None, 30]) # input: 30 features of breast cancer tissues\n",
    "label = tf.placeholder(tf.float32, [None, 2]) # true labels\n",
    "\n",
    "# 4 hidden layers\n",
    "y = model(x, 4)\n",
    "\n",
    "loss = tf.reduce_mean(tf.nn.softmax_cross_entropy_with_logits_v2(labels = label, logits = y)) # cross entropy loss\n",
    "accuracy = tf.reduce_mean(tf.cast(tf.equal(tf.argmax(label, 1), tf.argmax(y, 1)), \"float\"))\n",
    "train_step = tf.train.AdamOptimizer(1e-4).minimize(loss) # learn_rate = 1e-4\n",
    "\n",
    "with tf.Session() as sess:    \n",
    "\n",
    "    with tf.device(\"/gpu:0\") as dev:\n",
    "\n",
    "        train_accuracy_list = []\n",
    "        valid_accuracy_list = []\n",
    "        \n",
    "        max_valid_acc = 0.0\n",
    "        max_train_acc_list = []\n",
    "        max_epoch_list = []\n",
    "        \n",
    "        tf.global_variables_initializer().run()\n",
    "\n",
    "        for epoch in range(nNumEpochs):\n",
    "\n",
    "            for it in range(nNumTrainBatches - 1):\n",
    "\n",
    "                sess.run(train_step, feed_dict = {x: Train[nBatchSize * it: nBatchSize * (it + 1), 2:], \\\n",
    "                                                  label: Train[nBatchSize * it: nBatchSize * (it + 1), 0:2]})\n",
    "\n",
    "            if Train.shape[0] % nBatchSize != 0:\n",
    "\n",
    "                sess.run(train_step, feed_dict = {x: Train[nBatchSize * (nNumTrainBatches - 1): , 2:], \\\n",
    "                                                  label: Train[nBatchSize * (nNumTrainBatches - 1): , 0:2]})\n",
    "\n",
    "            train_acc = sess.run(accuracy, feed_dict = {x: Train[:, 2:], label: Train[:, 0:2]})\n",
    "            train_accuracy_list += [train_acc]\n",
    "                \n",
    "            valid_acc = sess.run(accuracy, feed_dict = {x: Valid[:, 2:], label: Valid[:, 0:2]})\n",
    "            valid_accuracy_list += [valid_acc]\n",
    "            \n",
    "            if valid_acc > max_valid_acc:\n",
    "                \n",
    "                max_valid_acc = valid_acc\n",
    "                max_train_acc_list = [train_acc]\n",
    "                max_epoch_list = [epoch]\n",
    "        \n",
    "            elif (valid_acc == max_valid_acc) and (train_acc not in max_train_acc_list): \n",
    "                \n",
    "                max_train_acc_list += [train_acc]\n",
    "                max_epoch_list += [epoch]\n",
    "        \n",
    "        for i in range(len(max_epoch_list)):\n",
    "        \n",
    "            print('Epoch: {}, train accuracy: {:.3}, valid accuracy: {:.3}'.format(max_epoch_list[i], max_train_acc_list[i], max_valid_acc))\n",
    "\n",
    "plt.plot(valid_accuracy_list, label = \"Learning rate 1e-4\")"
   ]
  },
  {
   "cell_type": "code",
   "execution_count": 23,
   "metadata": {
    "scrolled": false
   },
   "outputs": [
    {
     "name": "stdout",
     "output_type": "stream",
     "text": [
      "Epoch: 25849, train accuracy: 0.947, valid accuracy: 0.93\n",
      "Epoch: 27429, train accuracy: 0.95, valid accuracy: 0.93\n",
      "Epoch: 28201, train accuracy: 0.944, valid accuracy: 0.93\n"
     ]
    },
    {
     "data": {
      "text/plain": [
       "[<matplotlib.lines.Line2D at 0x7f27d1766a90>]"
      ]
     },
     "execution_count": 23,
     "metadata": {},
     "output_type": "execute_result"
    }
   ],
   "source": [
    "nBatchSize = 64\n",
    "nNumTrainBatches = math.ceil(nNumTrainData / nBatchSize)\n",
    "\n",
    "tf.reset_default_graph()\n",
    "tf.set_random_seed(777)\n",
    "np.random.seed(777)\n",
    "\n",
    "x = tf.placeholder(tf.float32, [None, 30]) # input: 30 features of breast cancer tissues\n",
    "label = tf.placeholder(tf.float32, [None, 2]) # true labels\n",
    "\n",
    "# 4 hidden layers\n",
    "y = model(x, 4)\n",
    "\n",
    "loss = tf.reduce_mean(tf.nn.softmax_cross_entropy_with_logits_v2(labels = label, logits = y)) # cross entropy loss\n",
    "accuracy = tf.reduce_mean(tf.cast(tf.equal(tf.argmax(label, 1), tf.argmax(y, 1)), \"float\"))\n",
    "train_step = tf.train.AdamOptimizer(1e-5).minimize(loss) # learn_rate = 1e-5\n",
    "\n",
    "with tf.Session() as sess:    \n",
    "\n",
    "    with tf.device(\"/gpu:0\") as dev:\n",
    "\n",
    "        train_accuracy_list = []\n",
    "        valid_accuracy_list = []\n",
    "        \n",
    "        max_valid_acc = 0.0\n",
    "        max_train_acc_list = []\n",
    "        max_epoch_list = []\n",
    "        \n",
    "        tf.global_variables_initializer().run()\n",
    "\n",
    "        for epoch in range(nNumEpochs):\n",
    "\n",
    "            for it in range(nNumTrainBatches - 1):\n",
    "\n",
    "                sess.run(train_step, feed_dict = {x: Train[nBatchSize * it: nBatchSize * (it + 1), 2:], \\\n",
    "                                                  label: Train[nBatchSize * it: nBatchSize * (it + 1), 0:2]})\n",
    "\n",
    "            if Train.shape[0] % nBatchSize != 0:\n",
    "\n",
    "                sess.run(train_step, feed_dict = {x: Train[nBatchSize * (nNumTrainBatches - 1): , 2:], \\\n",
    "                                                  label: Train[nBatchSize * (nNumTrainBatches - 1): , 0:2]})\n",
    "\n",
    "            train_acc = sess.run(accuracy, feed_dict = {x: Train[:, 2:], label: Train[:, 0:2]})\n",
    "            train_accuracy_list += [train_acc]\n",
    "                \n",
    "            valid_acc = sess.run(accuracy, feed_dict = {x: Valid[:, 2:], label: Valid[:, 0:2]})\n",
    "            valid_accuracy_list += [valid_acc]\n",
    "            \n",
    "            if valid_acc > max_valid_acc:\n",
    "                \n",
    "                max_valid_acc = valid_acc\n",
    "                max_train_acc_list = [train_acc]\n",
    "                max_epoch_list = [epoch]\n",
    "        \n",
    "            elif (valid_acc == max_valid_acc) and (train_acc not in max_train_acc_list): \n",
    "                \n",
    "                max_train_acc_list += [train_acc]\n",
    "                max_epoch_list += [epoch]\n",
    "        \n",
    "        for i in range(len(max_epoch_list)):\n",
    "        \n",
    "            print('Epoch: {}, train accuracy: {:.3}, valid accuracy: {:.3}'.format(max_epoch_list[i], max_train_acc_list[i], max_valid_acc))\n",
    "\n",
    "plt.plot(valid_accuracy_list, label = \"Learning rate 1e-5\")"
   ]
  },
  {
   "cell_type": "code",
   "execution_count": 24,
   "metadata": {
    "scrolled": true
   },
   "outputs": [
    {
     "data": {
      "image/png": "[encoded data removed]",
      "text/plain": [
       "<matplotlib.figure.Figure at 0x7f27e86b0b70>"
      ]
     },
     "metadata": {},
     "output_type": "display_data"
    }
   ],
   "source": [
    "plt.xlabel('epoch')\n",
    "plt.ylabel('validation accuracy')\n",
    "plt.legend()\n",
    "plt.show()\n",
    "plt.close()"
   ]
  },
  {
   "cell_type": "markdown",
   "metadata": {},
   "source": [
    "## Batch Normalization\n",
    "Set the learning rate = 1e-4. Next, let's add batch normalization layers."
   ]
  },
  {
   "cell_type": "code",
   "execution_count": 25,
   "metadata": {
    "scrolled": true
   },
   "outputs": [
    {
     "name": "stdout",
     "output_type": "stream",
     "text": [
      "Epoch: 11073, train accuracy: 0.991, valid accuracy: 0.982\n",
      "Epoch: 11633, train accuracy: 0.977, valid accuracy: 0.982\n",
      "Epoch: 11897, train accuracy: 0.988, valid accuracy: 0.982\n",
      "Epoch: 12388, train accuracy: 0.985, valid accuracy: 0.982\n",
      "Epoch: 12686, train accuracy: 0.994, valid accuracy: 0.982\n",
      "Epoch: 14584, train accuracy: 0.979, valid accuracy: 0.982\n"
     ]
    },
    {
     "data": {
      "text/plain": [
       "[<matplotlib.lines.Line2D at 0x7f286c7a8cf8>]"
      ]
     },
     "execution_count": 25,
     "metadata": {},
     "output_type": "execute_result"
    }
   ],
   "source": [
    "nBatchSize = 64\n",
    "nNumTrainBatches = math.ceil(nNumTrainData / nBatchSize)\n",
    "\n",
    "tf.reset_default_graph()\n",
    "tf.set_random_seed(777)\n",
    "np.random.seed(777)\n",
    "\n",
    "x = tf.placeholder(tf.float32, [None, 30]) # input: 30 features of breast cancer tissues\n",
    "label = tf.placeholder(tf.float32, [None, 2]) # true labels\n",
    "\n",
    "# 4 hidden layers\n",
    "y = model(x, 4)\n",
    "\n",
    "loss = tf.reduce_mean(tf.nn.softmax_cross_entropy_with_logits_v2(labels = label, logits = y)) # cross entropy loss\n",
    "accuracy = tf.reduce_mean(tf.cast(tf.equal(tf.argmax(label, 1), tf.argmax(y, 1)), \"float\"))\n",
    "train_step = tf.train.AdamOptimizer(1e-4).minimize(loss) # learn_rate = 1e-4\n",
    "\n",
    "with tf.Session() as sess:    \n",
    "\n",
    "    with tf.device(\"/gpu:0\") as dev:\n",
    "\n",
    "        train_accuracy_list = []\n",
    "        valid_accuracy_list = []\n",
    "        \n",
    "        max_valid_acc = 0.0\n",
    "        max_train_acc_list = []\n",
    "        max_epoch_list = []\n",
    "        \n",
    "        tf.global_variables_initializer().run()\n",
    "\n",
    "        for epoch in range(nNumEpochs):\n",
    "\n",
    "            for it in range(nNumTrainBatches - 1):\n",
    "\n",
    "                sess.run(train_step, feed_dict = {x: Train[nBatchSize * it: nBatchSize * (it + 1), 2:], \\\n",
    "                                                  label: Train[nBatchSize * it: nBatchSize * (it + 1), 0:2]})\n",
    "\n",
    "            if Train.shape[0] % nBatchSize != 0:\n",
    "\n",
    "                sess.run(train_step, feed_dict = {x: Train[nBatchSize * (nNumTrainBatches - 1): , 2:], \\\n",
    "                                                  label: Train[nBatchSize * (nNumTrainBatches - 1): , 0:2]})\n",
    "\n",
    "            train_acc = sess.run(accuracy, feed_dict = {x: Train[:, 2:], label: Train[:, 0:2]})\n",
    "            train_accuracy_list += [train_acc]\n",
    "                \n",
    "            valid_acc = sess.run(accuracy, feed_dict = {x: Valid[:, 2:], label: Valid[:, 0:2]})\n",
    "            valid_accuracy_list += [valid_acc]\n",
    "            \n",
    "            if valid_acc > max_valid_acc:\n",
    "                \n",
    "                max_valid_acc = valid_acc\n",
    "                max_train_acc_list = [train_acc]\n",
    "                max_epoch_list = [epoch]\n",
    "        \n",
    "            elif (valid_acc == max_valid_acc) and (train_acc not in max_train_acc_list): \n",
    "                \n",
    "                max_train_acc_list += [train_acc]\n",
    "                max_epoch_list += [epoch]\n",
    "        \n",
    "        for i in range(len(max_epoch_list)):\n",
    "        \n",
    "            print('Epoch: {}, train accuracy: {:.3}, valid accuracy: {:.3}'.format(max_epoch_list[i], max_train_acc_list[i], max_valid_acc))\n",
    "\n",
    "plt.plot(valid_accuracy_list, label = \"No batch normalization\")"
   ]
  },
  {
   "cell_type": "code",
   "execution_count": 26,
   "metadata": {},
   "outputs": [],
   "source": [
    "# model architecture with batch normalization\n",
    "def model_bn(X, nNumLayer, is_training):\n",
    "    \n",
    "    # define number of hidden nodes in each hidden layer\n",
    "    nNumHiddenNodesList = []\n",
    "    nNumNodes = 30\n",
    " \n",
    "    for nLayerNum in range(nNumLayer):\n",
    "    \n",
    "        nNumNodes *= np.power(2/30, 1/(nNumLayer + 1))\n",
    "        nNumHiddenNodesList += [np.int32(nNumNodes)]\n",
    "    \n",
    "    # construct my model\n",
    "    for nLayerNum in range(nNumLayer):\n",
    "        \n",
    "        X = tf.layers.dense(X, nNumHiddenNodesList[nLayerNum])\n",
    "        X = tf.layers.batch_normalization(X, training =  is_training)\n",
    "        X = tf.nn.softplus(X)\n",
    "    \n",
    "    X = tf.layers.dense(X, 2)\n",
    "    \n",
    "    return X"
   ]
  },
  {
   "cell_type": "code",
   "execution_count": 27,
   "metadata": {
    "scrolled": true
   },
   "outputs": [
    {
     "name": "stdout",
     "output_type": "stream",
     "text": [
      "Epoch: 0, train accuracy: 0.408, valid accuracy: 0.377\n",
      "Epoch: 1368, train accuracy: 0.405, valid accuracy: 0.377\n"
     ]
    },
    {
     "data": {
      "text/plain": [
       "[<matplotlib.lines.Line2D at 0x7f27d84f8dd8>]"
      ]
     },
     "execution_count": 27,
     "metadata": {},
     "output_type": "execute_result"
    }
   ],
   "source": [
    "nBatchSize = 64\n",
    "nNumTrainBatches = math.ceil(nNumTrainData / nBatchSize)\n",
    "\n",
    "tf.reset_default_graph()\n",
    "tf.set_random_seed(777)\n",
    "np.random.seed(777)\n",
    "\n",
    "x = tf.placeholder(tf.float32, [None, 30]) # input: 30 features of breast cancer tissues\n",
    "label = tf.placeholder(tf.float32, [None, 2]) # true labels\n",
    "training = tf.placeholder(tf.bool)\n",
    "\n",
    "# 4 hidden layers\n",
    "y = model_bn(x, 4, training)\n",
    "\n",
    "loss = tf.reduce_mean(tf.nn.softmax_cross_entropy_with_logits_v2(labels = label, logits = y)) # cross entropy loss\n",
    "accuracy = tf.reduce_mean(tf.cast(tf.equal(tf.argmax(label, 1), tf.argmax(y, 1)), \"float\"))\n",
    "train_step = tf.train.AdamOptimizer(1e-4).minimize(loss) # learn_rate = 1e-4\n",
    "\n",
    "with tf.Session() as sess:    \n",
    "\n",
    "    with tf.device(\"/gpu:0\") as dev:\n",
    "\n",
    "        train_accuracy_list = []\n",
    "        valid_accuracy_list = []\n",
    "        \n",
    "        max_valid_acc = 0.0\n",
    "        max_train_acc_list = []\n",
    "        max_epoch_list = []\n",
    "        \n",
    "        tf.global_variables_initializer().run()\n",
    "\n",
    "        for epoch in range(nNumEpochs):\n",
    "\n",
    "            for it in range(nNumTrainBatches - 1):\n",
    "\n",
    "                sess.run(train_step, feed_dict = {x: Train[nBatchSize * it: nBatchSize * (it + 1), 2:], \\\n",
    "                                                  label: Train[nBatchSize * it: nBatchSize * (it + 1), 0:2], training: True})\n",
    "\n",
    "            if Train.shape[0] % nBatchSize != 0:\n",
    "\n",
    "                sess.run(train_step, feed_dict = {x: Train[nBatchSize * (nNumTrainBatches - 1): , 2:], \\\n",
    "                                                  label: Train[nBatchSize * (nNumTrainBatches - 1): , 0:2], training: True})\n",
    "\n",
    "            train_acc = sess.run(accuracy, feed_dict = {x: Train[:, 2:], label: Train[:, 0:2], training: False})\n",
    "            train_accuracy_list += [train_acc]\n",
    "                \n",
    "            valid_acc = sess.run(accuracy, feed_dict = {x: Valid[:, 2:], label: Valid[:, 0:2], training: False})\n",
    "            valid_accuracy_list += [valid_acc]\n",
    "            \n",
    "            if valid_acc > max_valid_acc:\n",
    "                \n",
    "                max_valid_acc = valid_acc\n",
    "                max_train_acc_list = [train_acc]\n",
    "                max_epoch_list = [epoch]\n",
    "        \n",
    "            elif (valid_acc == max_valid_acc) and (train_acc not in max_train_acc_list): \n",
    "                \n",
    "                max_train_acc_list += [train_acc]\n",
    "                max_epoch_list += [epoch]\n",
    "        \n",
    "        for i in range(len(max_epoch_list)):\n",
    "        \n",
    "            print('Epoch: {}, train accuracy: {:.3}, valid accuracy: {:.3}'.format(max_epoch_list[i], max_train_acc_list[i], max_valid_acc))\n",
    "\n",
    "plt.plot(valid_accuracy_list, label = \"Batch normalization\")"
   ]
  },
  {
   "cell_type": "code",
   "execution_count": 28,
   "metadata": {},
   "outputs": [
    {
     "data": {
      "image/png": "[encoded data removed]",
      "text/plain": [
       "<matplotlib.figure.Figure at 0x7f282c491320>"
      ]
     },
     "metadata": {},
     "output_type": "display_data"
    }
   ],
   "source": [
    "plt.xlabel('epoch')\n",
    "plt.ylabel('validation accuracy')\n",
    "plt.legend()\n",
    "plt.show()\n",
    "plt.close()"
   ]
  },
  {
   "cell_type": "markdown",
   "metadata": {},
   "source": [
    "## Dropout\n",
    "No batch normalization! Next, let's add dropout layers."
   ]
  },
  {
   "cell_type": "code",
   "execution_count": 29,
   "metadata": {},
   "outputs": [
    {
     "name": "stdout",
     "output_type": "stream",
     "text": [
      "Epoch: 11068, train accuracy: 0.991, valid accuracy: 0.982\n",
      "Epoch: 11080, train accuracy: 0.988, valid accuracy: 0.982\n",
      "Epoch: 11336, train accuracy: 0.985, valid accuracy: 0.982\n",
      "Epoch: 12087, train accuracy: 0.979, valid accuracy: 0.982\n",
      "Epoch: 12598, train accuracy: 0.994, valid accuracy: 0.982\n",
      "Epoch: 15142, train accuracy: 0.968, valid accuracy: 0.982\n"
     ]
    },
    {
     "data": {
      "text/plain": [
       "[<matplotlib.lines.Line2D at 0x7f27d01c38d0>]"
      ]
     },
     "execution_count": 29,
     "metadata": {},
     "output_type": "execute_result"
    }
   ],
   "source": [
    "nBatchSize = 64\n",
    "nNumTrainBatches = math.ceil(nNumTrainData / nBatchSize)\n",
    "\n",
    "tf.reset_default_graph()\n",
    "tf.set_random_seed(777)\n",
    "np.random.seed(777)\n",
    "\n",
    "x = tf.placeholder(tf.float32, [None, 30]) # input: 30 features of breast cancer tissues\n",
    "label = tf.placeholder(tf.float32, [None, 2]) # true labels\n",
    "\n",
    "# 4 hidden layers\n",
    "y = model(x, 4)\n",
    "\n",
    "loss = tf.reduce_mean(tf.nn.softmax_cross_entropy_with_logits_v2(labels = label, logits = y)) # cross entropy loss\n",
    "accuracy = tf.reduce_mean(tf.cast(tf.equal(tf.argmax(label, 1), tf.argmax(y, 1)), \"float\"))\n",
    "train_step = tf.train.AdamOptimizer(1e-4).minimize(loss) # learn_rate = 1e-4\n",
    "\n",
    "with tf.Session() as sess:    \n",
    "\n",
    "    with tf.device(\"/gpu:0\") as dev:\n",
    "\n",
    "        train_accuracy_list = []\n",
    "        valid_accuracy_list = []\n",
    "        \n",
    "        max_valid_acc = 0.0\n",
    "        max_train_acc_list = []\n",
    "        max_epoch_list = []\n",
    "        \n",
    "        tf.global_variables_initializer().run()\n",
    "\n",
    "        for epoch in range(nNumEpochs):\n",
    "\n",
    "            for it in range(nNumTrainBatches - 1):\n",
    "\n",
    "                sess.run(train_step, feed_dict = {x: Train[nBatchSize * it: nBatchSize * (it + 1), 2:], \\\n",
    "                                                  label: Train[nBatchSize * it: nBatchSize * (it + 1), 0:2]})\n",
    "\n",
    "            if Train.shape[0] % nBatchSize != 0:\n",
    "\n",
    "                sess.run(train_step, feed_dict = {x: Train[nBatchSize * (nNumTrainBatches - 1): , 2:], \\\n",
    "                                                  label: Train[nBatchSize * (nNumTrainBatches - 1): , 0:2]})\n",
    "\n",
    "            train_acc = sess.run(accuracy, feed_dict = {x: Train[:, 2:], label: Train[:, 0:2]})\n",
    "            train_accuracy_list += [train_acc]\n",
    "                \n",
    "            valid_acc = sess.run(accuracy, feed_dict = {x: Valid[:, 2:], label: Valid[:, 0:2]})\n",
    "            valid_accuracy_list += [valid_acc]\n",
    "            \n",
    "            if valid_acc > max_valid_acc:\n",
    "                \n",
    "                max_valid_acc = valid_acc\n",
    "                max_train_acc_list = [train_acc]\n",
    "                max_epoch_list = [epoch]\n",
    "        \n",
    "            elif (valid_acc == max_valid_acc) and (train_acc not in max_train_acc_list): \n",
    "                \n",
    "                max_train_acc_list += [train_acc]\n",
    "                max_epoch_list += [epoch]\n",
    "        \n",
    "        for i in range(len(max_epoch_list)):\n",
    "        \n",
    "            print('Epoch: {}, train accuracy: {:.3}, valid accuracy: {:.3}'.format(max_epoch_list[i], max_train_acc_list[i], max_valid_acc))\n",
    "\n",
    "plt.plot(valid_accuracy_list, label = \"No dropout\")"
   ]
  },
  {
   "cell_type": "code",
   "execution_count": 30,
   "metadata": {},
   "outputs": [],
   "source": [
    "# model architecture with dropout\n",
    "def model_dropout(X, nNumLayer, is_training, dropout_rate):\n",
    "    \n",
    "    # define number of hidden nodes in each hidden layer\n",
    "    nNumHiddenNodesList = []\n",
    "    nNumNodes = 30\n",
    " \n",
    "    for nLayerNum in range(nNumLayer):\n",
    "    \n",
    "        nNumNodes *= np.power(2/30, 1/(nNumLayer + 1))\n",
    "        nNumHiddenNodesList += [np.int32(nNumNodes)]\n",
    "    \n",
    "    # construct my model\n",
    "    for nLayerNum in range(nNumLayer):\n",
    "        \n",
    "        X = tf.layers.dropout(X, rate = dropout_rate, seed = 777, training = is_training)\n",
    "        X = tf.layers.dense(X, nNumHiddenNodesList[nLayerNum])\n",
    "        X = tf.nn.softplus(X)\n",
    "    \n",
    "    X = tf.layers.dropout(X, rate = dropout_rate, seed = 777, training = is_training)\n",
    "    X = tf.layers.dense(X, 2)\n",
    "    \n",
    "    return X"
   ]
  },
  {
   "cell_type": "code",
   "execution_count": 31,
   "metadata": {
    "scrolled": true
   },
   "outputs": [
    {
     "name": "stdout",
     "output_type": "stream",
     "text": [
      "Epoch: 10319, train accuracy: 0.921, valid accuracy: 0.912\n",
      "Epoch: 10395, train accuracy: 0.924, valid accuracy: 0.912\n",
      "Epoch: 10919, train accuracy: 0.918, valid accuracy: 0.912\n",
      "Epoch: 11017, train accuracy: 0.927, valid accuracy: 0.912\n",
      "Epoch: 11545, train accuracy: 0.915, valid accuracy: 0.912\n",
      "Epoch: 12293, train accuracy: 0.93, valid accuracy: 0.912\n",
      "Epoch: 12792, train accuracy: 0.933, valid accuracy: 0.912\n",
      "Epoch: 13225, train accuracy: 0.935, valid accuracy: 0.912\n",
      "Epoch: 19465, train accuracy: 0.912, valid accuracy: 0.912\n",
      "Epoch: 25365, train accuracy: 0.938, valid accuracy: 0.912\n"
     ]
    },
    {
     "data": {
      "text/plain": [
       "[<matplotlib.lines.Line2D at 0x7f27c7fee160>]"
      ]
     },
     "execution_count": 31,
     "metadata": {},
     "output_type": "execute_result"
    }
   ],
   "source": [
    "nBatchSize = 64\n",
    "nNumTrainBatches = math.ceil(nNumTrainData / nBatchSize)\n",
    "\n",
    "tf.reset_default_graph()\n",
    "tf.set_random_seed(777)\n",
    "np.random.seed(777)\n",
    "\n",
    "x = tf.placeholder(tf.float32, [None, 30]) # input: 30 features of breast cancer tissues\n",
    "label = tf.placeholder(tf.float32, [None, 2]) # true labels\n",
    "training = tf.placeholder(tf.bool)\n",
    "\n",
    "# 4 hidden layers and dropout rate = 0.1\n",
    "y = model_dropout(x, 4, training, 0.1)\n",
    "\n",
    "loss = tf.reduce_mean(tf.nn.softmax_cross_entropy_with_logits_v2(labels = label, logits = y)) # cross entropy loss\n",
    "accuracy = tf.reduce_mean(tf.cast(tf.equal(tf.argmax(label, 1), tf.argmax(y, 1)), \"float\"))\n",
    "train_step = tf.train.AdamOptimizer(1e-4).minimize(loss) # learn_rate = 1e-4\n",
    "\n",
    "with tf.Session() as sess:    \n",
    "\n",
    "    with tf.device(\"/gpu:0\") as dev:\n",
    "\n",
    "        train_accuracy_list = []\n",
    "        valid_accuracy_list = []\n",
    "        \n",
    "        max_valid_acc = 0.0\n",
    "        max_train_acc_list = []\n",
    "        max_epoch_list = []\n",
    "        \n",
    "        tf.global_variables_initializer().run()\n",
    "\n",
    "        for epoch in range(nNumEpochs):\n",
    "\n",
    "            for it in range(nNumTrainBatches - 1):\n",
    "\n",
    "                sess.run(train_step, feed_dict = {x: Train[nBatchSize * it: nBatchSize * (it + 1), 2:], \\\n",
    "                                                  label: Train[nBatchSize * it: nBatchSize * (it + 1), 0:2], training: True})\n",
    "\n",
    "            if Train.shape[0] % nBatchSize != 0:\n",
    "\n",
    "                sess.run(train_step, feed_dict = {x: Train[nBatchSize * (nNumTrainBatches - 1): , 2:], \\\n",
    "                                                  label: Train[nBatchSize * (nNumTrainBatches - 1): , 0:2], training: True})\n",
    "\n",
    "            train_acc = sess.run(accuracy, feed_dict = {x: Train[:, 2:], label: Train[:, 0:2], training: False})\n",
    "            train_accuracy_list += [train_acc]\n",
    "                \n",
    "            valid_acc = sess.run(accuracy, feed_dict = {x: Valid[:, 2:], label: Valid[:, 0:2], training: False})\n",
    "            valid_accuracy_list += [valid_acc]\n",
    "            \n",
    "            if valid_acc > max_valid_acc:\n",
    "                \n",
    "                max_valid_acc = valid_acc\n",
    "                max_train_acc_list = [train_acc]\n",
    "                max_epoch_list = [epoch]\n",
    "        \n",
    "            elif (valid_acc == max_valid_acc) and (train_acc not in max_train_acc_list): \n",
    "                \n",
    "                max_train_acc_list += [train_acc]\n",
    "                max_epoch_list += [epoch]\n",
    "        \n",
    "        for i in range(len(max_epoch_list)):\n",
    "        \n",
    "            print('Epoch: {}, train accuracy: {:.3}, valid accuracy: {:.3}'.format(max_epoch_list[i], max_train_acc_list[i], max_valid_acc))\n",
    "\n",
    "plt.plot(valid_accuracy_list, label = \"Dropout rate 0.1\")"
   ]
  },
  {
   "cell_type": "code",
   "execution_count": 32,
   "metadata": {
    "scrolled": true
   },
   "outputs": [
    {
     "name": "stdout",
     "output_type": "stream",
     "text": [
      "Epoch: 29989, train accuracy: 0.848, valid accuracy: 0.868\n",
      "Epoch: 29995, train accuracy: 0.85, valid accuracy: 0.868\n"
     ]
    },
    {
     "data": {
      "text/plain": [
       "[<matplotlib.lines.Line2D at 0x7f27c7e593c8>]"
      ]
     },
     "execution_count": 32,
     "metadata": {},
     "output_type": "execute_result"
    }
   ],
   "source": [
    "nBatchSize = 64\n",
    "nNumTrainBatches = math.ceil(nNumTrainData / nBatchSize)\n",
    "\n",
    "tf.reset_default_graph()\n",
    "tf.set_random_seed(777)\n",
    "np.random.seed(777)\n",
    "\n",
    "x = tf.placeholder(tf.float32, [None, 30]) # input: 30 features of breast cancer tissues\n",
    "label = tf.placeholder(tf.float32, [None, 2]) # true labels\n",
    "training = tf.placeholder(tf.bool)\n",
    "\n",
    "# 4 hidden layers and dropout rate = 0.3\n",
    "y = model_dropout(x, 4, training, 0.3)\n",
    "\n",
    "loss = tf.reduce_mean(tf.nn.softmax_cross_entropy_with_logits_v2(labels = label, logits = y)) # cross entropy loss\n",
    "accuracy = tf.reduce_mean(tf.cast(tf.equal(tf.argmax(label, 1), tf.argmax(y, 1)), \"float\"))\n",
    "train_step = tf.train.AdamOptimizer(1e-4).minimize(loss) # learn_rate = 1e-4\n",
    "\n",
    "with tf.Session() as sess:    \n",
    "\n",
    "    with tf.device(\"/gpu:0\") as dev:\n",
    "\n",
    "        train_accuracy_list = []\n",
    "        valid_accuracy_list = []\n",
    "        \n",
    "        max_valid_acc = 0.0\n",
    "        max_train_acc_list = []\n",
    "        max_epoch_list = []\n",
    "        \n",
    "        tf.global_variables_initializer().run()\n",
    "\n",
    "        for epoch in range(nNumEpochs):\n",
    "\n",
    "            for it in range(nNumTrainBatches - 1):\n",
    "\n",
    "                sess.run(train_step, feed_dict = {x: Train[nBatchSize * it: nBatchSize * (it + 1), 2:], \\\n",
    "                                                  label: Train[nBatchSize * it: nBatchSize * (it + 1), 0:2], training: True})\n",
    "\n",
    "            if Train.shape[0] % nBatchSize != 0:\n",
    "\n",
    "                sess.run(train_step, feed_dict = {x: Train[nBatchSize * (nNumTrainBatches - 1): , 2:], \\\n",
    "                                                  label: Train[nBatchSize * (nNumTrainBatches - 1): , 0:2], training: True})\n",
    "\n",
    "            train_acc = sess.run(accuracy, feed_dict = {x: Train[:, 2:], label: Train[:, 0:2], training: False})\n",
    "            train_accuracy_list += [train_acc]\n",
    "                \n",
    "            valid_acc = sess.run(accuracy, feed_dict = {x: Valid[:, 2:], label: Valid[:, 0:2], training: False})\n",
    "            valid_accuracy_list += [valid_acc]\n",
    "            \n",
    "            if valid_acc > max_valid_acc:\n",
    "                \n",
    "                max_valid_acc = valid_acc\n",
    "                max_train_acc_list = [train_acc]\n",
    "                max_epoch_list = [epoch]\n",
    "        \n",
    "            elif (valid_acc == max_valid_acc) and (train_acc not in max_train_acc_list): \n",
    "                \n",
    "                max_train_acc_list += [train_acc]\n",
    "                max_epoch_list += [epoch]\n",
    "        \n",
    "        for i in range(len(max_epoch_list)):\n",
    "        \n",
    "            print('Epoch: {}, train accuracy: {:.3}, valid accuracy: {:.3}'.format(max_epoch_list[i], max_train_acc_list[i], max_valid_acc))\n",
    "\n",
    "plt.plot(valid_accuracy_list, label = \"Dropout rate 0.3\")"
   ]
  },
  {
   "cell_type": "code",
   "execution_count": 33,
   "metadata": {
    "scrolled": true
   },
   "outputs": [
    {
     "name": "stdout",
     "output_type": "stream",
     "text": [
      "Epoch: 3, train accuracy: 0.584, valid accuracy: 0.623\n",
      "Epoch: 4, train accuracy: 0.587, valid accuracy: 0.623\n",
      "Epoch: 6, train accuracy: 0.589, valid accuracy: 0.623\n",
      "Epoch: 15, train accuracy: 0.592, valid accuracy: 0.623\n",
      "Epoch: 50, train accuracy: 0.581, valid accuracy: 0.623\n"
     ]
    },
    {
     "data": {
      "text/plain": [
       "[<matplotlib.lines.Line2D at 0x7f27d33c1d68>]"
      ]
     },
     "execution_count": 33,
     "metadata": {},
     "output_type": "execute_result"
    }
   ],
   "source": [
    "nBatchSize = 64\n",
    "nNumTrainBatches = math.ceil(nNumTrainData / nBatchSize)\n",
    "\n",
    "tf.reset_default_graph()\n",
    "tf.set_random_seed(777)\n",
    "np.random.seed(777)\n",
    "\n",
    "x = tf.placeholder(tf.float32, [None, 30]) # input: 30 features of breast cancer tissues\n",
    "label = tf.placeholder(tf.float32, [None, 2]) # true labels\n",
    "training = tf.placeholder(tf.bool)\n",
    "\n",
    "# 4 hidden layers and dropout rate = 0.5\n",
    "y = model_dropout(x, 4, training, 0.5)\n",
    "\n",
    "loss = tf.reduce_mean(tf.nn.softmax_cross_entropy_with_logits_v2(labels = label, logits = y)) # cross entropy loss\n",
    "accuracy = tf.reduce_mean(tf.cast(tf.equal(tf.argmax(label, 1), tf.argmax(y, 1)), \"float\"))\n",
    "train_step = tf.train.AdamOptimizer(1e-4).minimize(loss) # learn_rate = 1e-4\n",
    "\n",
    "with tf.Session() as sess:    \n",
    "\n",
    "    with tf.device(\"/gpu:0\") as dev:\n",
    "\n",
    "        train_accuracy_list = []\n",
    "        valid_accuracy_list = []\n",
    "        \n",
    "        max_valid_acc = 0.0\n",
    "        max_train_acc_list = []\n",
    "        max_epoch_list = []\n",
    "        \n",
    "        tf.global_variables_initializer().run()\n",
    "\n",
    "        for epoch in range(nNumEpochs):\n",
    "\n",
    "            for it in range(nNumTrainBatches - 1):\n",
    "\n",
    "                sess.run(train_step, feed_dict = {x: Train[nBatchSize * it: nBatchSize * (it + 1), 2:], \\\n",
    "                                                  label: Train[nBatchSize * it: nBatchSize * (it + 1), 0:2], training: True})\n",
    "\n",
    "            if Train.shape[0] % nBatchSize != 0:\n",
    "\n",
    "                sess.run(train_step, feed_dict = {x: Train[nBatchSize * (nNumTrainBatches - 1): , 2:], \\\n",
    "                                                  label: Train[nBatchSize * (nNumTrainBatches - 1): , 0:2], training: True})\n",
    "\n",
    "            train_acc = sess.run(accuracy, feed_dict = {x: Train[:, 2:], label: Train[:, 0:2], training: False})\n",
    "            train_accuracy_list += [train_acc]\n",
    "                \n",
    "            valid_acc = sess.run(accuracy, feed_dict = {x: Valid[:, 2:], label: Valid[:, 0:2], training: False})\n",
    "            valid_accuracy_list += [valid_acc]\n",
    "            \n",
    "            if valid_acc > max_valid_acc:\n",
    "                \n",
    "                max_valid_acc = valid_acc\n",
    "                max_train_acc_list = [train_acc]\n",
    "                max_epoch_list = [epoch]\n",
    "        \n",
    "            elif (valid_acc == max_valid_acc) and (train_acc not in max_train_acc_list): \n",
    "                \n",
    "                max_train_acc_list += [train_acc]\n",
    "                max_epoch_list += [epoch]\n",
    "        \n",
    "        for i in range(len(max_epoch_list)):\n",
    "        \n",
    "            print('Epoch: {}, train accuracy: {:.3}, valid accuracy: {:.3}'.format(max_epoch_list[i], max_train_acc_list[i], max_valid_acc))\n",
    "\n",
    "plt.plot(valid_accuracy_list, label = \"Dropout rate 0.5\")"
   ]
  },
  {
   "cell_type": "code",
   "execution_count": 34,
   "metadata": {},
   "outputs": [
    {
     "data": {
      "image/png": "[encoded data removed]",
      "text/plain": [
       "<matplotlib.figure.Figure at 0x7f27d2b0bfd0>"
      ]
     },
     "metadata": {},
     "output_type": "display_data"
    }
   ],
   "source": [
    "plt.xlabel('epoch')\n",
    "plt.ylabel('validation accuracy')\n",
    "plt.legend()\n",
    "plt.show()\n",
    "plt.close()"
   ]
  },
  {
   "cell_type": "markdown",
   "metadata": {},
   "source": [
    "## L2 Regularization\n",
    "No dropout! This time, add L2 regularization to the cross entropy loss function."
   ]
  },
  {
   "cell_type": "code",
   "execution_count": 35,
   "metadata": {
    "scrolled": true
   },
   "outputs": [
    {
     "name": "stdout",
     "output_type": "stream",
     "text": [
      "Epoch: 12195, train accuracy: 0.971, valid accuracy: 0.991\n"
     ]
    },
    {
     "data": {
      "text/plain": [
       "[<matplotlib.lines.Line2D at 0x7f27d8b5e1d0>]"
      ]
     },
     "execution_count": 35,
     "metadata": {},
     "output_type": "execute_result"
    }
   ],
   "source": [
    "nBatchSize = 64\n",
    "nNumTrainBatches = math.ceil(nNumTrainData / nBatchSize)\n",
    "\n",
    "tf.reset_default_graph()\n",
    "tf.set_random_seed(777)\n",
    "np.random.seed(777)\n",
    "\n",
    "x = tf.placeholder(tf.float32, [None, 30]) # input: 30 features of breast cancer tissues\n",
    "label = tf.placeholder(tf.float32, [None, 2]) # true labels\n",
    "\n",
    "# 4 hidden layers\n",
    "y = model(x, 4)\n",
    "\n",
    "loss = tf.reduce_mean(tf.nn.softmax_cross_entropy_with_logits_v2(labels = label, logits = y)) # cross entropy loss\n",
    "accuracy = tf.reduce_mean(tf.cast(tf.equal(tf.argmax(label, 1), tf.argmax(y, 1)), \"float\"))\n",
    "train_step = tf.train.AdamOptimizer(1e-4).minimize(loss) # learn_rate = 1e-4\n",
    "\n",
    "with tf.Session() as sess:    \n",
    "\n",
    "    with tf.device(\"/gpu:0\") as dev:\n",
    "\n",
    "        train_accuracy_list = []\n",
    "        valid_accuracy_list = []\n",
    "        \n",
    "        max_valid_acc = 0.0\n",
    "        max_train_acc_list = []\n",
    "        max_epoch_list = []\n",
    "        \n",
    "        tf.global_variables_initializer().run()\n",
    "\n",
    "        for epoch in range(nNumEpochs):\n",
    "\n",
    "            for it in range(nNumTrainBatches - 1):\n",
    "\n",
    "                sess.run(train_step, feed_dict = {x: Train[nBatchSize * it: nBatchSize * (it + 1), 2:], \\\n",
    "                                                  label: Train[nBatchSize * it: nBatchSize * (it + 1), 0:2]})\n",
    "\n",
    "            if Train.shape[0] % nBatchSize != 0:\n",
    "\n",
    "                sess.run(train_step, feed_dict = {x: Train[nBatchSize * (nNumTrainBatches - 1): , 2:], \\\n",
    "                                                  label: Train[nBatchSize * (nNumTrainBatches - 1): , 0:2]})\n",
    "\n",
    "            train_acc = sess.run(accuracy, feed_dict = {x: Train[:, 2:], label: Train[:, 0:2]})\n",
    "            train_accuracy_list += [train_acc]\n",
    "                \n",
    "            valid_acc = sess.run(accuracy, feed_dict = {x: Valid[:, 2:], label: Valid[:, 0:2]})\n",
    "            valid_accuracy_list += [valid_acc]\n",
    "            \n",
    "            if valid_acc > max_valid_acc:\n",
    "                \n",
    "                max_valid_acc = valid_acc\n",
    "                max_train_acc_list = [train_acc]\n",
    "                max_epoch_list = [epoch]\n",
    "        \n",
    "            elif (valid_acc == max_valid_acc) and (train_acc not in max_train_acc_list): \n",
    "                \n",
    "                max_train_acc_list += [train_acc]\n",
    "                max_epoch_list += [epoch]\n",
    "        \n",
    "        for i in range(len(max_epoch_list)):\n",
    "        \n",
    "            print('Epoch: {}, train accuracy: {:.3}, valid accuracy: {:.3}'.format(max_epoch_list[i], max_train_acc_list[i], max_valid_acc))\n",
    "\n",
    "plt.plot(valid_accuracy_list, label = \"No regularization\")"
   ]
  },
  {
   "cell_type": "code",
   "execution_count": 36,
   "metadata": {
    "scrolled": true
   },
   "outputs": [
    {
     "name": "stdout",
     "output_type": "stream",
     "text": [
      "Epoch: 1836, train accuracy: 0.927, valid accuracy: 0.921\n",
      "Epoch: 3099, train accuracy: 0.93, valid accuracy: 0.921\n"
     ]
    },
    {
     "data": {
      "text/plain": [
       "[<matplotlib.lines.Line2D at 0x7f27e86a2fd0>]"
      ]
     },
     "execution_count": 36,
     "metadata": {},
     "output_type": "execute_result"
    }
   ],
   "source": [
    "nBatchSize = 64\n",
    "nNumTrainBatches = math.ceil(nNumTrainData / nBatchSize)\n",
    "\n",
    "tf.reset_default_graph()\n",
    "tf.set_random_seed(777)\n",
    "np.random.seed(777)\n",
    "\n",
    "x = tf.placeholder(tf.float32, [None, 30]) # input: 30 features of breast cancer tissues\n",
    "label = tf.placeholder(tf.float32, [None, 2]) # true labels\n",
    "\n",
    "# 4 hidden layers\n",
    "y = model(x, 4)\n",
    "\n",
    "loss = tf.reduce_mean(tf.nn.softmax_cross_entropy_with_logits_v2(labels = label, logits = y)) # cross entropy loss\n",
    "\n",
    "variables = tf.trainable_variables()\n",
    "regularization = 1e-1 * tf.add_n([tf.nn.l2_loss(variable) for variable in variables if \"bias\" not in variable.name]) # regularization\n",
    "\n",
    "accuracy = tf.reduce_mean(tf.cast(tf.equal(tf.argmax(label, 1), tf.argmax(y, 1)), \"float\"))\n",
    "train_step = tf.train.AdamOptimizer(1e-4).minimize(loss + regularization) # learn_rate = 1e-4\n",
    "\n",
    "with tf.Session() as sess:    \n",
    "\n",
    "    with tf.device(\"/gpu:0\") as dev:\n",
    "\n",
    "        train_accuracy_list = []\n",
    "        valid_accuracy_list = []\n",
    "        \n",
    "        max_valid_acc = 0.0\n",
    "        max_train_acc_list = []\n",
    "        max_epoch_list = []\n",
    "        \n",
    "        tf.global_variables_initializer().run()\n",
    "\n",
    "        for epoch in range(nNumEpochs):\n",
    "\n",
    "            for it in range(nNumTrainBatches - 1):\n",
    "\n",
    "                sess.run(train_step, feed_dict = {x: Train[nBatchSize * it: nBatchSize * (it + 1), 2:], \\\n",
    "                                                  label: Train[nBatchSize * it: nBatchSize * (it + 1), 0:2]})\n",
    "\n",
    "            if Train.shape[0] % nBatchSize != 0:\n",
    "\n",
    "                sess.run(train_step, feed_dict = {x: Train[nBatchSize * (nNumTrainBatches - 1): , 2:], \\\n",
    "                                                  label: Train[nBatchSize * (nNumTrainBatches - 1): , 0:2]})\n",
    "\n",
    "            train_acc = sess.run(accuracy, feed_dict = {x: Train[:, 2:], label: Train[:, 0:2]})\n",
    "            train_accuracy_list += [train_acc]\n",
    "                \n",
    "            valid_acc = sess.run(accuracy, feed_dict = {x: Valid[:, 2:], label: Valid[:, 0:2]})\n",
    "            valid_accuracy_list += [valid_acc]\n",
    "            \n",
    "            if valid_acc > max_valid_acc:\n",
    "                \n",
    "                max_valid_acc = valid_acc\n",
    "                max_train_acc_list = [train_acc]\n",
    "                max_epoch_list = [epoch]\n",
    "        \n",
    "            elif (valid_acc == max_valid_acc) and (train_acc not in max_train_acc_list): \n",
    "                \n",
    "                max_train_acc_list += [train_acc]\n",
    "                max_epoch_list += [epoch]\n",
    "        \n",
    "        for i in range(len(max_epoch_list)):\n",
    "        \n",
    "            print('Epoch: {}, train accuracy: {:.3}, valid accuracy: {:.3}'.format(max_epoch_list[i], max_train_acc_list[i], max_valid_acc))\n",
    "\n",
    "plt.plot(valid_accuracy_list, label = \"Regularization with lambda = 1e-1\")"
   ]
  },
  {
   "cell_type": "code",
   "execution_count": 37,
   "metadata": {
    "scrolled": true
   },
   "outputs": [
    {
     "name": "stdout",
     "output_type": "stream",
     "text": [
      "Epoch: 3938, train accuracy: 0.953, valid accuracy: 0.956\n",
      "Epoch: 4026, train accuracy: 0.95, valid accuracy: 0.956\n",
      "Epoch: 4561, train accuracy: 0.956, valid accuracy: 0.956\n",
      "Epoch: 4745, train accuracy: 0.959, valid accuracy: 0.956\n",
      "Epoch: 5138, train accuracy: 0.962, valid accuracy: 0.956\n",
      "Epoch: 6189, train accuracy: 0.965, valid accuracy: 0.956\n",
      "Epoch: 8073, train accuracy: 0.968, valid accuracy: 0.956\n",
      "Epoch: 10034, train accuracy: 0.971, valid accuracy: 0.956\n",
      "Epoch: 11817, train accuracy: 0.974, valid accuracy: 0.956\n",
      "Epoch: 12267, train accuracy: 0.977, valid accuracy: 0.956\n",
      "Epoch: 15438, train accuracy: 0.982, valid accuracy: 0.956\n",
      "Epoch: 18403, train accuracy: 0.985, valid accuracy: 0.956\n",
      "Epoch: 19031, train accuracy: 0.988, valid accuracy: 0.956\n",
      "Epoch: 19337, train accuracy: 0.991, valid accuracy: 0.956\n",
      "Epoch: 25797, train accuracy: 0.994, valid accuracy: 0.956\n"
     ]
    },
    {
     "data": {
      "text/plain": [
       "[<matplotlib.lines.Line2D at 0x7f27d8f48748>]"
      ]
     },
     "execution_count": 37,
     "metadata": {},
     "output_type": "execute_result"
    }
   ],
   "source": [
    "nBatchSize = 64\n",
    "nNumTrainBatches = math.ceil(nNumTrainData / nBatchSize)\n",
    "\n",
    "tf.reset_default_graph()\n",
    "tf.set_random_seed(777)\n",
    "np.random.seed(777)\n",
    "\n",
    "x = tf.placeholder(tf.float32, [None, 30]) # input: 30 features of breast cancer tissues\n",
    "label = tf.placeholder(tf.float32, [None, 2]) # true labels\n",
    "\n",
    "# 4 hidden layers\n",
    "y = model(x, 4)\n",
    "\n",
    "loss = tf.reduce_mean(tf.nn.softmax_cross_entropy_with_logits_v2(labels = label, logits = y)) # cross entropy loss\n",
    "\n",
    "variables = tf.trainable_variables()\n",
    "regularization = 1e-3 * tf.add_n([tf.nn.l2_loss(variable) for variable in variables if \"bias\" not in variable.name]) # regularization\n",
    "\n",
    "accuracy = tf.reduce_mean(tf.cast(tf.equal(tf.argmax(label, 1), tf.argmax(y, 1)), \"float\"))\n",
    "train_step = tf.train.AdamOptimizer(1e-4).minimize(loss + regularization) # learn_rate = 1e-4\n",
    "\n",
    "with tf.Session() as sess:    \n",
    "\n",
    "    with tf.device(\"/gpu:0\") as dev:\n",
    "\n",
    "        train_accuracy_list = []\n",
    "        valid_accuracy_list = []\n",
    "        \n",
    "        max_valid_acc = 0.0\n",
    "        max_train_acc_list = []\n",
    "        max_epoch_list = []\n",
    "        \n",
    "        tf.global_variables_initializer().run()\n",
    "\n",
    "        for epoch in range(nNumEpochs):\n",
    "\n",
    "            for it in range(nNumTrainBatches - 1):\n",
    "\n",
    "                sess.run(train_step, feed_dict = {x: Train[nBatchSize * it: nBatchSize * (it + 1), 2:], \\\n",
    "                                                  label: Train[nBatchSize * it: nBatchSize * (it + 1), 0:2]})\n",
    "\n",
    "            if Train.shape[0] % nBatchSize != 0:\n",
    "\n",
    "                sess.run(train_step, feed_dict = {x: Train[nBatchSize * (nNumTrainBatches - 1): , 2:], \\\n",
    "                                                  label: Train[nBatchSize * (nNumTrainBatches - 1): , 0:2]})\n",
    "\n",
    "            train_acc = sess.run(accuracy, feed_dict = {x: Train[:, 2:], label: Train[:, 0:2]})\n",
    "            train_accuracy_list += [train_acc]\n",
    "                \n",
    "            valid_acc = sess.run(accuracy, feed_dict = {x: Valid[:, 2:], label: Valid[:, 0:2]})\n",
    "            valid_accuracy_list += [valid_acc]\n",
    "            \n",
    "            if valid_acc > max_valid_acc:\n",
    "                \n",
    "                max_valid_acc = valid_acc\n",
    "                max_train_acc_list = [train_acc]\n",
    "                max_epoch_list = [epoch]\n",
    "        \n",
    "            elif (valid_acc == max_valid_acc) and (train_acc not in max_train_acc_list): \n",
    "                \n",
    "                max_train_acc_list += [train_acc]\n",
    "                max_epoch_list += [epoch]\n",
    "        \n",
    "        for i in range(len(max_epoch_list)):\n",
    "        \n",
    "            print('Epoch: {}, train accuracy: {:.3}, valid accuracy: {:.3}'.format(max_epoch_list[i], max_train_acc_list[i], max_valid_acc))\n",
    "\n",
    "plt.plot(valid_accuracy_list, label = \"Regularization with lambda = 1e-3\")"
   ]
  },
  {
   "cell_type": "code",
   "execution_count": 38,
   "metadata": {
    "scrolled": true
   },
   "outputs": [
    {
     "name": "stdout",
     "output_type": "stream",
     "text": [
      "Epoch: 3729, train accuracy: 0.971, valid accuracy: 0.982\n",
      "Epoch: 12228, train accuracy: 0.988, valid accuracy: 0.982\n",
      "Epoch: 12251, train accuracy: 0.997, valid accuracy: 0.982\n",
      "Epoch: 12536, train accuracy: 0.994, valid accuracy: 0.982\n",
      "Epoch: 12538, train accuracy: 0.991, valid accuracy: 0.982\n",
      "Epoch: 12544, train accuracy: 0.977, valid accuracy: 0.982\n",
      "Epoch: 12854, train accuracy: 0.974, valid accuracy: 0.982\n",
      "Epoch: 12858, train accuracy: 0.965, valid accuracy: 0.982\n",
      "Epoch: 12860, train accuracy: 0.962, valid accuracy: 0.982\n"
     ]
    },
    {
     "data": {
      "text/plain": [
       "[<matplotlib.lines.Line2D at 0x7f27d1756908>]"
      ]
     },
     "execution_count": 38,
     "metadata": {},
     "output_type": "execute_result"
    }
   ],
   "source": [
    "nBatchSize = 64\n",
    "nNumTrainBatches = math.ceil(nNumTrainData / nBatchSize)\n",
    "\n",
    "tf.reset_default_graph()\n",
    "tf.set_random_seed(777)\n",
    "np.random.seed(777)\n",
    "\n",
    "x = tf.placeholder(tf.float32, [None, 30]) # input: 30 features of breast cancer tissues\n",
    "label = tf.placeholder(tf.float32, [None, 2]) # true labels\n",
    "\n",
    "# 4 hidden layers\n",
    "y = model(x, 4)\n",
    "\n",
    "loss = tf.reduce_mean(tf.nn.softmax_cross_entropy_with_logits_v2(labels = label, logits = y)) # cross entropy loss\n",
    "\n",
    "variables = tf.trainable_variables()\n",
    "regularization = 1e-5 * tf.add_n([tf.nn.l2_loss(variable) for variable in variables if \"bias\" not in variable.name]) # regularization\n",
    "\n",
    "accuracy = tf.reduce_mean(tf.cast(tf.equal(tf.argmax(label, 1), tf.argmax(y, 1)), \"float\"))\n",
    "train_step = tf.train.AdamOptimizer(1e-4).minimize(loss + regularization) # learn_rate = 1e-4\n",
    "\n",
    "with tf.Session() as sess:    \n",
    "\n",
    "    with tf.device(\"/gpu:0\") as dev:\n",
    "\n",
    "        train_accuracy_list = []\n",
    "        valid_accuracy_list = []\n",
    "        \n",
    "        max_valid_acc = 0.0\n",
    "        max_train_acc_list = []\n",
    "        max_epoch_list = []\n",
    "        \n",
    "        tf.global_variables_initializer().run()\n",
    "\n",
    "        for epoch in range(nNumEpochs):\n",
    "\n",
    "            for it in range(nNumTrainBatches - 1):\n",
    "\n",
    "                sess.run(train_step, feed_dict = {x: Train[nBatchSize * it: nBatchSize * (it + 1), 2:], \\\n",
    "                                                  label: Train[nBatchSize * it: nBatchSize * (it + 1), 0:2]})\n",
    "\n",
    "            if Train.shape[0] % nBatchSize != 0:\n",
    "\n",
    "                sess.run(train_step, feed_dict = {x: Train[nBatchSize * (nNumTrainBatches - 1): , 2:], \\\n",
    "                                                  label: Train[nBatchSize * (nNumTrainBatches - 1): , 0:2]})\n",
    "\n",
    "            train_acc = sess.run(accuracy, feed_dict = {x: Train[:, 2:], label: Train[:, 0:2]})\n",
    "            train_accuracy_list += [train_acc]\n",
    "                \n",
    "            valid_acc = sess.run(accuracy, feed_dict = {x: Valid[:, 2:], label: Valid[:, 0:2]})\n",
    "            valid_accuracy_list += [valid_acc]\n",
    "            \n",
    "            if valid_acc > max_valid_acc:\n",
    "                \n",
    "                max_valid_acc = valid_acc\n",
    "                max_train_acc_list = [train_acc]\n",
    "                max_epoch_list = [epoch]\n",
    "        \n",
    "            elif (valid_acc == max_valid_acc) and (train_acc not in max_train_acc_list): \n",
    "                \n",
    "                max_train_acc_list += [train_acc]\n",
    "                max_epoch_list += [epoch]\n",
    "        \n",
    "        for i in range(len(max_epoch_list)):\n",
    "        \n",
    "            print('Epoch: {}, train accuracy: {:.3}, valid accuracy: {:.3}'.format(max_epoch_list[i], max_train_acc_list[i], max_valid_acc))\n",
    "\n",
    "plt.plot(valid_accuracy_list, label = \"Regularization with lambda = 1e-5\")"
   ]
  },
  {
   "cell_type": "code",
   "execution_count": 39,
   "metadata": {},
   "outputs": [
    {
     "data": {
      "image/png": "[encoded data removed]",
      "text/plain": [
       "<matplotlib.figure.Figure at 0x7f27d8b75c18>"
      ]
     },
     "metadata": {},
     "output_type": "display_data"
    }
   ],
   "source": [
    "plt.xlabel('epoch')\n",
    "plt.ylabel('validation accuracy')\n",
    "plt.legend()\n",
    "plt.show()\n",
    "plt.close()"
   ]
  },
  {
   "cell_type": "markdown",
   "metadata": {},
   "source": [
    "## Ensemble Model\n",
    "No regularization. Lastly, let's make an ensemble model of seven neural networks which have their own initial weights."
   ]
  },
  {
   "cell_type": "code",
   "execution_count": 43,
   "metadata": {
    "scrolled": true
   },
   "outputs": [
    {
     "name": "stdout",
     "output_type": "stream",
     "text": [
      "Epoch: 11094, train accuracy: 0.991, valid accuracy: 0.982\n",
      "Epoch: 11106, train accuracy: 0.985, valid accuracy: 0.982\n",
      "Epoch: 11361, train accuracy: 0.977, valid accuracy: 0.982\n",
      "Epoch: 11868, train accuracy: 0.974, valid accuracy: 0.982\n",
      "Epoch: 12145, train accuracy: 0.965, valid accuracy: 0.982\n",
      "Epoch: 12454, train accuracy: 0.994, valid accuracy: 0.982\n",
      "Epoch: 12469, train accuracy: 0.982, valid accuracy: 0.982\n",
      "Epoch: 12473, train accuracy: 0.988, valid accuracy: 0.982\n",
      "Epoch: 14478, train accuracy: 0.979, valid accuracy: 0.982\n"
     ]
    },
    {
     "data": {
      "text/plain": [
       "[<matplotlib.lines.Line2D at 0x7f27d8c47390>]"
      ]
     },
     "execution_count": 43,
     "metadata": {},
     "output_type": "execute_result"
    }
   ],
   "source": [
    "nBatchSize = 64\n",
    "nNumTrainBatches = math.ceil(nNumTrainData / nBatchSize)\n",
    "\n",
    "tf.reset_default_graph()\n",
    "tf.set_random_seed(777)\n",
    "np.random.seed(777)\n",
    "\n",
    "x = tf.placeholder(tf.float32, [None, 30]) # input: 30 features of breast cancer tissues\n",
    "label = tf.placeholder(tf.float32, [None, 2]) # true labels\n",
    "\n",
    "# 4 hidden layers\n",
    "y = model(x, 4)\n",
    "\n",
    "loss = tf.reduce_mean(tf.nn.softmax_cross_entropy_with_logits_v2(labels = label, logits = y)) # cross entropy loss\n",
    "accuracy = tf.reduce_mean(tf.cast(tf.equal(tf.argmax(label, 1), tf.argmax(y, 1)), \"float\"))\n",
    "train_step = tf.train.AdamOptimizer(1e-4).minimize(loss) # learn_rate = 1e-4\n",
    "\n",
    "with tf.Session() as sess:    \n",
    "\n",
    "    with tf.device(\"/gpu:0\") as dev:\n",
    "\n",
    "        train_accuracy_list = []\n",
    "        valid_accuracy_list = []\n",
    "        \n",
    "        max_valid_acc = 0.0\n",
    "        max_train_acc_list = []\n",
    "        max_epoch_list = []\n",
    "        \n",
    "        tf.global_variables_initializer().run()\n",
    "\n",
    "        for epoch in range(nNumEpochs):\n",
    "\n",
    "            for it in range(nNumTrainBatches - 1):\n",
    "\n",
    "                sess.run(train_step, feed_dict = {x: Train[nBatchSize * it: nBatchSize * (it + 1), 2:], \\\n",
    "                                                  label: Train[nBatchSize * it: nBatchSize * (it + 1), 0:2]})\n",
    "\n",
    "            if Train.shape[0] % nBatchSize != 0:\n",
    "\n",
    "                sess.run(train_step, feed_dict = {x: Train[nBatchSize * (nNumTrainBatches - 1): , 2:], \\\n",
    "                                                  label: Train[nBatchSize * (nNumTrainBatches - 1): , 0:2]})\n",
    "\n",
    "            train_acc = sess.run(accuracy, feed_dict = {x: Train[:, 2:], label: Train[:, 0:2]})\n",
    "            train_accuracy_list += [train_acc]\n",
    "                \n",
    "            valid_acc = sess.run(accuracy, feed_dict = {x: Valid[:, 2:], label: Valid[:, 0:2]})\n",
    "            valid_accuracy_list += [valid_acc]\n",
    "            \n",
    "            if valid_acc > max_valid_acc:\n",
    "                \n",
    "                max_valid_acc = valid_acc\n",
    "                max_train_acc_list = [train_acc]\n",
    "                max_epoch_list = [epoch]\n",
    "        \n",
    "            elif (valid_acc == max_valid_acc) and (train_acc not in max_train_acc_list): \n",
    "                \n",
    "                max_train_acc_list += [train_acc]\n",
    "                max_epoch_list += [epoch]\n",
    "        \n",
    "        for i in range(len(max_epoch_list)):\n",
    "        \n",
    "            print('Epoch: {}, train accuracy: {:.3}, valid accuracy: {:.3}'.format(max_epoch_list[i], max_train_acc_list[i], max_valid_acc))\n",
    "\n",
    "plt.plot(valid_accuracy_list, label = \"Original model\")"
   ]
  },
  {
   "cell_type": "code",
   "execution_count": 44,
   "metadata": {
    "scrolled": true
   },
   "outputs": [
    {
     "name": "stdout",
     "output_type": "stream",
     "text": [
      "Epoch: 15551, train accuracy: 0.991, valid accuracy: 0.982\n",
      "Epoch: 22872, train accuracy: 0.994, valid accuracy: 0.982\n",
      "Epoch: 26628, train accuracy: 0.997, valid accuracy: 0.982\n"
     ]
    },
    {
     "data": {
      "text/plain": [
       "[<matplotlib.lines.Line2D at 0x7f27c7dfd4e0>]"
      ]
     },
     "execution_count": 44,
     "metadata": {},
     "output_type": "execute_result"
    }
   ],
   "source": [
    "nBatchSize = 64\n",
    "nNumTrainBatches = math.ceil(nNumTrainData / nBatchSize)\n",
    "\n",
    "tf.reset_default_graph()\n",
    "tf.set_random_seed(777)\n",
    "np.random.seed(777)\n",
    "\n",
    "x = tf.placeholder(tf.float32, [None, 30]) # input: 30 features of breast cancer tissues\n",
    "label = tf.placeholder(tf.float32, [None, 2]) # true labels\n",
    "\n",
    "# 4 hidden layers\n",
    "y1 = model(x, 4) # first model\n",
    "y2 = model(x, 4) # second model\n",
    "y3 = model(x, 4) # third model\n",
    "y4 = model(x, 4) # fourth model\n",
    "y5 = model(x, 4) # fifth model\n",
    "y6 = model(x, 4) # sixth model\n",
    "y7 = model(x, 4) # seventh model\n",
    "\n",
    "# cross entropy loss\n",
    "loss1 = tf.reduce_mean(tf.nn.softmax_cross_entropy_with_logits_v2(labels = label, logits = y1)) # first model loss\n",
    "loss2 = tf.reduce_mean(tf.nn.softmax_cross_entropy_with_logits_v2(labels = label, logits = y2)) # second model loss\n",
    "loss3 = tf.reduce_mean(tf.nn.softmax_cross_entropy_with_logits_v2(labels = label, logits = y3)) # third model loss\n",
    "loss4 = tf.reduce_mean(tf.nn.softmax_cross_entropy_with_logits_v2(labels = label, logits = y4)) # fourth model loss\n",
    "loss5 = tf.reduce_mean(tf.nn.softmax_cross_entropy_with_logits_v2(labels = label, logits = y5)) # fifth model loss\n",
    "loss6 = tf.reduce_mean(tf.nn.softmax_cross_entropy_with_logits_v2(labels = label, logits = y6)) # sixth model loss\n",
    "loss7 = tf.reduce_mean(tf.nn.softmax_cross_entropy_with_logits_v2(labels = label, logits = y7)) # seventh model loss\n",
    "\n",
    "# majority voting\n",
    "accuracy = tf.reduce_mean(tf.cast(tf.greater(tf.cast(tf.equal(tf.argmax(label, 1), tf.argmax(y1, 1)), tf.int8) + \\\n",
    "                                             tf.cast(tf.equal(tf.argmax(label, 1), tf.argmax(y2, 1)), tf.int8) + \\\n",
    "                                             tf.cast(tf.equal(tf.argmax(label, 1), tf.argmax(y3, 1)), tf.int8) + \\\n",
    "                                             tf.cast(tf.equal(tf.argmax(label, 1), tf.argmax(y4, 1)), tf.int8) + \\\n",
    "                                             tf.cast(tf.equal(tf.argmax(label, 1), tf.argmax(y5, 1)), tf.int8) + \\\n",
    "                                             tf.cast(tf.equal(tf.argmax(label, 1), tf.argmax(y6, 1)), tf.int8) + \\\n",
    "                                             tf.cast(tf.equal(tf.argmax(label, 1), tf.argmax(y7, 1)), tf.int8), 3), \"float\")) \n",
    "\n",
    "# learn_rate = 1e-4\n",
    "train_step1 = tf.train.AdamOptimizer(1e-4).minimize(loss1) \n",
    "train_step2 = tf.train.AdamOptimizer(1e-4).minimize(loss2) \n",
    "train_step3 = tf.train.AdamOptimizer(1e-4).minimize(loss3) \n",
    "train_step4 = tf.train.AdamOptimizer(1e-4).minimize(loss4) \n",
    "train_step5 = tf.train.AdamOptimizer(1e-4).minimize(loss5) \n",
    "train_step6 = tf.train.AdamOptimizer(1e-4).minimize(loss6) \n",
    "train_step7 = tf.train.AdamOptimizer(1e-4).minimize(loss7) \n",
    "\n",
    "with tf.Session() as sess:    \n",
    "\n",
    "    with tf.device(\"/gpu:0\") as dev:\n",
    "\n",
    "        train_accuracy_list = []\n",
    "        valid_accuracy_list = []\n",
    "        \n",
    "        max_valid_acc = 0.0\n",
    "        max_train_acc_list = []\n",
    "        max_epoch_list = []\n",
    "        \n",
    "        tf.global_variables_initializer().run()\n",
    "\n",
    "        for epoch in range(nNumEpochs):\n",
    "\n",
    "            for it in range(nNumTrainBatches - 1):\n",
    "\n",
    "                sess.run([train_step1, train_step2, train_step3, train_step4, train_step5, train_step6, train_step7], feed_dict = \\\n",
    "                         {x: Train[nBatchSize * it: nBatchSize * (it + 1), 2:], label: Train[nBatchSize * it: nBatchSize * (it + 1), 0:2]})\n",
    "\n",
    "            if Train.shape[0] % nBatchSize != 0:\n",
    "\n",
    "                sess.run([train_step1, train_step2, train_step3, train_step4, train_step5, train_step6, train_step7], feed_dict = \\\n",
    "                         {x: Train[nBatchSize * (nNumTrainBatches - 1): , 2:], label: Train[nBatchSize * (nNumTrainBatches - 1): , 0:2]})\n",
    "\n",
    "            train_acc = sess.run(accuracy, feed_dict = {x: Train[:, 2:], label: Train[:, 0:2]})\n",
    "            train_accuracy_list += [train_acc]\n",
    "                \n",
    "            valid_acc = sess.run(accuracy, feed_dict = {x: Valid[:, 2:], label: Valid[:, 0:2]})\n",
    "            valid_accuracy_list += [valid_acc]\n",
    "            \n",
    "            if valid_acc > max_valid_acc:\n",
    "                \n",
    "                max_valid_acc = valid_acc\n",
    "                max_train_acc_list = [train_acc]\n",
    "                max_epoch_list = [epoch]\n",
    "        \n",
    "            elif (valid_acc == max_valid_acc) and (train_acc not in max_train_acc_list): \n",
    "                \n",
    "                max_train_acc_list += [train_acc]\n",
    "                max_epoch_list += [epoch]\n",
    "        \n",
    "        for i in range(len(max_epoch_list)):\n",
    "        \n",
    "            print('Epoch: {}, train accuracy: {:.3}, valid accuracy: {:.3}'.format(max_epoch_list[i], max_train_acc_list[i], max_valid_acc))\n",
    "\n",
    "plt.plot(valid_accuracy_list, label = \"Ensemble model\")"
   ]
  },
  {
   "cell_type": "code",
   "execution_count": 45,
   "metadata": {
    "scrolled": true
   },
   "outputs": [
    {
     "data": {
      "image/png": "[encoded data removed]",
      "text/plain": [
       "<matplotlib.figure.Figure at 0x7f27c62169b0>"
      ]
     },
     "metadata": {},
     "output_type": "display_data"
    }
   ],
   "source": [
    "plt.xlabel('epoch')\n",
    "plt.ylabel('validation accuracy')\n",
    "plt.legend()\n",
    "plt.show()\n",
    "plt.close()"
   ]
  },
  {
   "cell_type": "markdown",
   "metadata": {},
   "source": [
    "## Save the Model and Calculate Test Accuracy\n",
    "No ensemble!"
   ]
  },
  {
   "cell_type": "code",
   "execution_count": 58,
   "metadata": {
    "scrolled": true
   },
   "outputs": [
    {
     "name": "stdout",
     "output_type": "stream",
     "text": [
      "Model saved in path: ./model.ckpt\n"
     ]
    }
   ],
   "source": [
    "nNumEpochs = 12454 # number of epochs\n",
    "\n",
    "nBatchSize = 64\n",
    "nNumTrainBatches = math.ceil(nNumTrainData / nBatchSize)\n",
    "\n",
    "tf.reset_default_graph()\n",
    "tf.set_random_seed(777)\n",
    "np.random.seed(777)\n",
    "\n",
    "x = tf.placeholder(tf.float32, [None, 30]) # input: 30 features of breast cancer tissues\n",
    "label = tf.placeholder(tf.float32, [None, 2]) # true labels\n",
    "\n",
    "# 4 hidden layers\n",
    "y = model(x, 4)\n",
    "\n",
    "loss = tf.reduce_mean(tf.nn.softmax_cross_entropy_with_logits_v2(labels = label, logits = y)) # cross entropy loss\n",
    "accuracy = tf.reduce_mean(tf.cast(tf.equal(tf.argmax(label, 1), tf.argmax(y, 1)), \"float\"))\n",
    "train_step = tf.train.AdamOptimizer(1e-4).minimize(loss) # learn_rate = 1e-4\n",
    "\n",
    "saver = tf.train.Saver()\n",
    "\n",
    "with tf.Session() as sess:    \n",
    "\n",
    "    with tf.device(\"/gpu:0\") as dev:\n",
    "\n",
    "        train_accuracy_list = []\n",
    "        valid_accuracy_list = []\n",
    "        \n",
    "        tf.global_variables_initializer().run()\n",
    "\n",
    "        for epoch in range(nNumEpochs):\n",
    "\n",
    "            for it in range(nNumTrainBatches - 1):\n",
    "\n",
    "                sess.run(train_step, feed_dict = {x: Train[nBatchSize * it: nBatchSize * (it + 1), 2:], \\\n",
    "                                                  label: Train[nBatchSize * it: nBatchSize * (it + 1), 0:2]})\n",
    "\n",
    "            if Train.shape[0] % nBatchSize != 0:\n",
    "\n",
    "                sess.run(train_step, feed_dict = {x: Train[nBatchSize * (nNumTrainBatches - 1): , 2:], \\\n",
    "                                                  label: Train[nBatchSize * (nNumTrainBatches - 1): , 0:2]})\n",
    "                \n",
    "    save_path = saver.save(sess, \"./model.ckpt\")\n",
    "    print(\"Model saved in path: %s\" % save_path)"
   ]
  },
  {
   "cell_type": "code",
   "execution_count": 59,
   "metadata": {
    "scrolled": true
   },
   "outputs": [
    {
     "name": "stdout",
     "output_type": "stream",
     "text": [
      "INFO:tensorflow:Restoring parameters from ./model.ckpt\n",
      "Model restored.\n",
      "train accuracy: 0.991, test accuracy: 0.965, valid accuracy: 0.982\n"
     ]
    }
   ],
   "source": [
    "Test = np.load('./Test.npy')\n",
    "\n",
    "with tf.Session() as sess:    \n",
    "\n",
    "    saver.restore(sess, \"./model.ckpt\")\n",
    "    \n",
    "    print(\"Model restored.\")\n",
    "    \n",
    "    train_acc = sess.run(accuracy, feed_dict = {x: Train[:, 2:], label: Train[:, 0:2]})\n",
    "    test_acc = sess.run(accuracy, feed_dict = {x: Test[:, 2:], label: Test[:, 0:2]})\n",
    "    valid_acc = sess.run(accuracy, feed_dict = {x: Valid[:, 2:], label: Valid[:, 0:2]})\n",
    "    \n",
    "print('train accuracy: {:.3}, test accuracy: {:.3}, valid accuracy: {:.3}'.format(train_acc, test_acc, valid_acc))"
   ]
  },
  {
   "cell_type": "code",
   "execution_count": null,
   "metadata": {},
   "outputs": [],
   "source": []
  }
 ],
 "metadata": {
  "kernelspec": {
   "display_name": "Python 3",
   "language": "python",
   "name": "python3"
  },
  "language_info": {
   "codemirror_mode": {
    "name": "ipython",
    "version": 3
   },
   "file_extension": ".py",
   "mimetype": "text/x-python",
   "name": "python",
   "nbconvert_exporter": "python",
   "pygments_lexer": "ipython3",
   "version": "3.5.2"
  }
 },
 "nbformat": 4,
 "nbformat_minor": 2
}
